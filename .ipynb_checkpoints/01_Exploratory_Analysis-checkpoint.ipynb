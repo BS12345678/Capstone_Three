{
 "cells": [
  {
   "cell_type": "markdown",
   "metadata": {},
   "source": [
    "## Exploratory Analysis Contents<a id='Contents'></a>\n",
    "* [Importing Excel Files to DataFrame](#Importing_Excel_Files_to_DataFrame)\n",
    "* [Categorical Features in Detail](#Categorical_Features_in_Detail)\n",
    "  * [Gender](#Gender)\n",
    "  * [Senior Citizen](#Senior_Citizen)\n",
    "  * [Partner](#Partner)\n",
    "  * [Dependents](#Dependents)\n",
    "  * [Phone Service](#Phone_Service)\n",
    "  * [Multiple Lines](#Multiple_Lines)\n",
    "  * [Internet Service](#Internet_Service)\n",
    "  * [Online Security](#Online_Security)\n",
    "  * [Online Backup](#Online_Backup)\n",
    "  * [Device Protection](#Device_Protection)\n",
    "  * [Tech Support](#Tech_Support)\n",
    "  * [Streaming TV](#Streaming_TV)\n",
    "  * [Streaming Movies](#Streaming_Movies)\n",
    "  * [Paperless Billing](#Paperless_Billing)\n",
    "  * [Payment Method](#Payment_Method)\n",
    "* [Numerical Features](#Numerical_Features)\n",
    "  * [Tenure Months](#Tenure_Months)\n",
    "  * [Charges](#Charges)\n",
    "* [Showing Churn rates in Different Cities using Tableau](#Showing_Churn_rates_in_Different_Cities_using_Tableau)\n",
    "  * [Customer Lifetime Value](#Customer_Lifetime_Value)\n"
   ]
  },
  {
   "cell_type": "code",
   "execution_count": 1,
   "metadata": {
    "scrolled": true
   },
   "outputs": [],
   "source": [
    "#Importing necessary packages\n",
    "import pandas as pd\n",
    "import numpy as np\n",
    "import os\n",
    "import matplotlib.pyplot as plt\n",
    "import seaborn as sns\n",
    "from scipy import stats"
   ]
  },
  {
   "cell_type": "markdown",
   "metadata": {},
   "source": [
    "**Importing Excel Files to DataFrame**<a id='Importing_Excel_Files_to_DataFrame'></a>"
   ]
  },
  {
   "cell_type": "code",
   "execution_count": 2,
   "metadata": {},
   "outputs": [],
   "source": [
    "df1 = pd.read_excel('C:/Users/tnsub/Google Drive/SPRINGBOARD DSC/Customer_Churn_Project/Data/Telco_customer_churn.xlsx')"
   ]
  },
  {
   "cell_type": "code",
   "execution_count": 3,
   "metadata": {
    "scrolled": true
   },
   "outputs": [],
   "source": [
    "#Seeing all the columns\n",
    "pd.set_option('display.max_columns', None)"
   ]
  },
  {
   "cell_type": "code",
   "execution_count": 4,
   "metadata": {
    "scrolled": true
   },
   "outputs": [],
   "source": [
    "df = df1.drop(columns=['Count', 'Country', 'State', 'Lat Long'])"
   ]
  },
  {
   "cell_type": "code",
   "execution_count": 5,
   "metadata": {
    "scrolled": true
   },
   "outputs": [
    {
     "name": "stdout",
     "output_type": "stream",
     "text": [
      "<class 'pandas.core.frame.DataFrame'>\n",
      "RangeIndex: 7043 entries, 0 to 7042\n",
      "Data columns (total 29 columns):\n",
      " #   Column             Non-Null Count  Dtype  \n",
      "---  ------             --------------  -----  \n",
      " 0   CustomerID         7043 non-null   object \n",
      " 1   City               7043 non-null   object \n",
      " 2   Zip Code           7043 non-null   int64  \n",
      " 3   Latitude           7043 non-null   float64\n",
      " 4   Longitude          7043 non-null   float64\n",
      " 5   Gender             7043 non-null   object \n",
      " 6   Senior Citizen     7043 non-null   object \n",
      " 7   Partner            7043 non-null   object \n",
      " 8   Dependents         7043 non-null   object \n",
      " 9   Tenure Months      7043 non-null   int64  \n",
      " 10  Phone Service      7043 non-null   object \n",
      " 11  Multiple Lines     7043 non-null   object \n",
      " 12  Internet Service   7043 non-null   object \n",
      " 13  Online Security    7043 non-null   object \n",
      " 14  Online Backup      7043 non-null   object \n",
      " 15  Device Protection  7043 non-null   object \n",
      " 16  Tech Support       7043 non-null   object \n",
      " 17  Streaming TV       7043 non-null   object \n",
      " 18  Streaming Movies   7043 non-null   object \n",
      " 19  Contract           7043 non-null   object \n",
      " 20  Paperless Billing  7043 non-null   object \n",
      " 21  Payment Method     7043 non-null   object \n",
      " 22  Monthly Charges    7043 non-null   float64\n",
      " 23  Total Charges      7043 non-null   object \n",
      " 24  Churn Label        7043 non-null   object \n",
      " 25  Churn Value        7043 non-null   int64  \n",
      " 26  Churn Score        7043 non-null   int64  \n",
      " 27  CLTV               7043 non-null   int64  \n",
      " 28  Churn Reason       1869 non-null   object \n",
      "dtypes: float64(3), int64(5), object(21)\n",
      "memory usage: 1.6+ MB\n"
     ]
    }
   ],
   "source": [
    "# There were no missing values.\n",
    "df.info()"
   ]
  },
  {
   "cell_type": "markdown",
   "metadata": {},
   "source": [
    "All the features were categorical variables, except for 'Tenure Months', 'Monthly Charges', 'Total charges',  and CLTV"
   ]
  },
  {
   "cell_type": "markdown",
   "metadata": {},
   "source": [
    "**Categorical Features in Detail**<a id='Categorical_Features_in_Detail'></a>"
   ]
  },
  {
   "cell_type": "markdown",
   "metadata": {},
   "source": [
    "**Gender**<a id='Gender'></a>"
   ]
  },
  {
   "cell_type": "code",
   "execution_count": 6,
   "metadata": {},
   "outputs": [
    {
     "data": {
      "text/plain": [
       "Male      3555\n",
       "Female    3488\n",
       "Name: Gender, dtype: int64"
      ]
     },
     "execution_count": 6,
     "metadata": {},
     "output_type": "execute_result"
    }
   ],
   "source": [
    "# of the total sample around 18% were senior citizens\n",
    "df['Gender'].value_counts()"
   ]
  },
  {
   "cell_type": "code",
   "execution_count": 7,
   "metadata": {},
   "outputs": [
    {
     "name": "stdout",
     "output_type": "stream",
     "text": [
      "Churn Label    No  Yes\n",
      "Gender                \n",
      "Female       2549  939\n",
      "Male         2625  930\n"
     ]
    }
   ],
   "source": [
    "# we can do cross tab to examine how churn rates are distributed among gender\n",
    "ct0 = pd.crosstab(df['Gender'], df['Churn Label'])\n",
    "print(ct0)"
   ]
  },
  {
   "cell_type": "code",
   "execution_count": 8,
   "metadata": {},
   "outputs": [],
   "source": [
    "#Creating a dataframe with the churn rates using crosstab results\n",
    "data = [['Male', (ct0.iloc[1,1]/(ct0.iloc[1,0] + ct0.iloc[1,1])) * 100], ['Female', (ct0.iloc[0,1]/(ct0.iloc[0,0] + ct0.iloc[0,1])) * 100]]\n",
    "gg0 = pd.DataFrame(data, columns = ['Gender', 'Churn rate'])"
   ]
  },
  {
   "cell_type": "code",
   "execution_count": 9,
   "metadata": {},
   "outputs": [],
   "source": [
    "# Writing a function to show how churn rates look like in different attributes of features\n",
    "def twoplots(x, barplotData):\n",
    "    fig, axes = plt.subplots(1, 2, figsize=(15, 5))\n",
    "    fig.suptitle('Churn Rates in different attributes of ' + x)\n",
    "    sns.countplot(ax=axes[0], x=x, data=df, palette='rocket',hue='Churn Label')\n",
    "    sns.barplot(ax=axes[1], x=x, y='Churn rate', data=barplotData)\n",
    "    plt.show()"
   ]
  },
  {
   "cell_type": "markdown",
   "metadata": {},
   "source": [
    "<font color='green'>For each categorical variable in this sample, the countplot on left shows how the feaure makes variation in churn and the plot on right directly compares the churn % in attributes of a feature."
   ]
  },
  {
   "cell_type": "code",
   "execution_count": 10,
   "metadata": {},
   "outputs": [
    {
     "data": {
      "image/png": "[encoded data removed]",
      "text/plain": [
       "<Figure size 1080x360 with 2 Axes>"
      ]
     },
     "metadata": {
      "needs_background": "light"
     },
     "output_type": "display_data"
    }
   ],
   "source": [
    "twoplots('Gender', gg0)"
   ]
  },
  {
   "cell_type": "markdown",
   "metadata": {},
   "source": [
    "<font color='green'>It seems like gender doesn't seem to have any impact on Churn rates."
   ]
  },
  {
   "cell_type": "markdown",
   "metadata": {},
   "source": [
    "**Senior Citizen**<a id='Senior_Citizen'></a> "
   ]
  },
  {
   "cell_type": "code",
   "execution_count": 11,
   "metadata": {},
   "outputs": [
    {
     "data": {
      "text/plain": [
       "No     5901\n",
       "Yes    1142\n",
       "Name: Senior Citizen, dtype: int64"
      ]
     },
     "execution_count": 11,
     "metadata": {},
     "output_type": "execute_result"
    }
   ],
   "source": [
    "# of the total sample around 18% were senior citizens\n",
    "df['Senior Citizen'].value_counts()"
   ]
  },
  {
   "cell_type": "code",
   "execution_count": 12,
   "metadata": {
    "scrolled": true
   },
   "outputs": [
    {
     "name": "stdout",
     "output_type": "stream",
     "text": [
      "Churn Label       No   Yes\n",
      "Senior Citizen            \n",
      "No              4508  1393\n",
      "Yes              666   476\n"
     ]
    }
   ],
   "source": [
    "# we can do cross tab to examine how churn rates are distributed among senior citizens\n",
    "ct = pd.crosstab(df['Senior Citizen'], df['Churn Label'])\n",
    "print(ct)"
   ]
  },
  {
   "cell_type": "code",
   "execution_count": 13,
   "metadata": {},
   "outputs": [],
   "source": [
    "#Creating a dataframe with the churn rates using crosstab results\n",
    "data = [['Yes', (ct.iloc[1,1]/(ct.iloc[1,0] + ct.iloc[1,1])) * 100], ['No', (ct.iloc[0,1]/(ct.iloc[0,0] + ct.iloc[0,1])) * 100]]\n",
    "gg = pd.DataFrame(data, columns = ['Senior Citizen', 'Churn rate'])"
   ]
  },
  {
   "cell_type": "code",
   "execution_count": 14,
   "metadata": {},
   "outputs": [
    {
     "data": {
      "image/png": "[encoded data removed]",
      "text/plain": [
       "<Figure size 1080x360 with 2 Axes>"
      ]
     },
     "metadata": {
      "needs_background": "light"
     },
     "output_type": "display_data"
    }
   ],
   "source": [
    "twoplots('Senior Citizen', gg)"
   ]
  },
  {
   "cell_type": "markdown",
   "metadata": {},
   "source": [
    "<font color='green'>Senior Citizens seem to churn a lot compared to regular customers. This feature can be a predictor."
   ]
  },
  {
   "cell_type": "markdown",
   "metadata": {},
   "source": [
    "**2. Partner**<a id='Partner'></a>"
   ]
  },
  {
   "cell_type": "code",
   "execution_count": 15,
   "metadata": {},
   "outputs": [
    {
     "data": {
      "text/plain": [
       "No     3641\n",
       "Yes    3402\n",
       "Name: Partner, dtype: int64"
      ]
     },
     "execution_count": 15,
     "metadata": {},
     "output_type": "execute_result"
    }
   ],
   "source": [
    "# This feature is about if the customer has any partners in his contract with the company\n",
    "# Around 48% of the customers hold the account with a partner\n",
    "df['Partner'].value_counts()"
   ]
  },
  {
   "cell_type": "code",
   "execution_count": 16,
   "metadata": {},
   "outputs": [
    {
     "name": "stdout",
     "output_type": "stream",
     "text": [
      "Churn Label    No   Yes\n",
      "Partner                \n",
      "No           2441  1200\n",
      "Yes          2733   669\n"
     ]
    }
   ],
   "source": [
    "ct1 = pd.crosstab(df['Partner'], df['Churn Label'])\n",
    "print(ct1)"
   ]
  },
  {
   "cell_type": "code",
   "execution_count": 17,
   "metadata": {},
   "outputs": [],
   "source": [
    "#Creating a dataframe with the churn rates using crosstab results\n",
    "data = [['Yes', (ct1.iloc[1,1]/(ct1.iloc[1,0] + ct1.iloc[1,1])) * 100], ['No', (ct1.iloc[0,1]/(ct1.iloc[0,0] + ct1.iloc[0,1])) * 100]]\n",
    "gg1 = pd.DataFrame(data, columns = ['Partner', 'Churn rate'])"
   ]
  },
  {
   "cell_type": "code",
   "execution_count": 18,
   "metadata": {},
   "outputs": [
    {
     "data": {
      "image/png": "[encoded data removed]",
      "text/plain": [
       "<Figure size 1080x360 with 2 Axes>"
      ]
     },
     "metadata": {
      "needs_background": "light"
     },
     "output_type": "display_data"
    }
   ],
   "source": [
    "twoplots('Partner', gg1)"
   ]
  },
  {
   "cell_type": "markdown",
   "metadata": {},
   "source": [
    "<font color='green'>Having a partner in contract makes customers to churn less. Can be used in modeling."
   ]
  },
  {
   "cell_type": "markdown",
   "metadata": {},
   "source": [
    "**3. Dependents**<a id='Dependents'></a>"
   ]
  },
  {
   "cell_type": "code",
   "execution_count": 19,
   "metadata": {},
   "outputs": [
    {
     "name": "stdout",
     "output_type": "stream",
     "text": [
      "No     5416\n",
      "Yes    1627\n",
      "Name: Dependents, dtype: int64\n"
     ]
    }
   ],
   "source": [
    "# this variable measures how many dependents a customer has got\n",
    "print(df['Dependents'].value_counts())\n"
   ]
  },
  {
   "cell_type": "code",
   "execution_count": 20,
   "metadata": {},
   "outputs": [
    {
     "name": "stdout",
     "output_type": "stream",
     "text": [
      "Churn Label    No   Yes\n",
      "Dependents             \n",
      "No           3653  1763\n",
      "Yes          1521   106\n"
     ]
    }
   ],
   "source": [
    "ct2 = pd.crosstab(df['Dependents'], df['Churn Label'])\n",
    "print(ct2)\n",
    "\n",
    "data = [['Yes', (ct2.iloc[1,1]/(ct2.iloc[1,0] + ct2.iloc[1,1])) * 100], ['No', (ct2.iloc[0,1]/(ct2.iloc[0,0] + ct2.iloc[0,1])) * 100]]\n",
    "gg2 = pd.DataFrame(data, columns = ['Dependents', 'Churn rate'])"
   ]
  },
  {
   "cell_type": "code",
   "execution_count": 21,
   "metadata": {},
   "outputs": [
    {
     "data": {
      "image/png": "[encoded data removed]",
      "text/plain": [
       "<Figure size 1080x360 with 2 Axes>"
      ]
     },
     "metadata": {
      "needs_background": "light"
     },
     "output_type": "display_data"
    }
   ],
   "source": [
    "twoplots('Dependents',gg2)"
   ]
  },
  {
   "cell_type": "markdown",
   "metadata": {},
   "source": [
    "<font color='green'>Those who do not have dependents are more likely (> 4times) to churn than those with dependents."
   ]
  },
  {
   "cell_type": "markdown",
   "metadata": {},
   "source": [
    "**4.Phone Service**<a id='Phone_Service'></a>"
   ]
  },
  {
   "cell_type": "code",
   "execution_count": 22,
   "metadata": {},
   "outputs": [
    {
     "name": "stdout",
     "output_type": "stream",
     "text": [
      "Yes    6361\n",
      "No      682\n",
      "Name: Phone Service, dtype: int64\n"
     ]
    }
   ],
   "source": [
    "#This variable measures if Phone service is included in their contract\n",
    "# Most of them; 90.3% of them have phone service\n",
    "print(df['Phone Service'].value_counts())"
   ]
  },
  {
   "cell_type": "code",
   "execution_count": 23,
   "metadata": {},
   "outputs": [
    {
     "name": "stdout",
     "output_type": "stream",
     "text": [
      "Churn Label      No   Yes\n",
      "Phone Service            \n",
      "No              512   170\n",
      "Yes            4662  1699\n"
     ]
    }
   ],
   "source": [
    "ct3 = pd.crosstab(df['Phone Service'], df['Churn Label'])\n",
    "print(ct3)\n",
    "\n",
    "data = [['Yes', (ct3.iloc[1,1]/(ct3.iloc[1,0] + ct3.iloc[1,1])) * 100], ['No', (ct3.iloc[0,1]/(ct3.iloc[0,0] + ct3.iloc[0,1])) * 100]]\n",
    "gg3 = pd.DataFrame(data, columns = ['Phone Service', 'Churn rate'])"
   ]
  },
  {
   "cell_type": "code",
   "execution_count": 24,
   "metadata": {},
   "outputs": [
    {
     "data": {
      "image/png": "[encoded data removed]",
      "text/plain": [
       "<Figure size 1080x360 with 2 Axes>"
      ]
     },
     "metadata": {
      "needs_background": "light"
     },
     "output_type": "display_data"
    }
   ],
   "source": [
    "twoplots('Phone Service', gg3)"
   ]
  },
  {
   "cell_type": "markdown",
   "metadata": {},
   "source": [
    "<font color='green'>Having a phone service in their contract doesn't seem to be related to churn rates."
   ]
  },
  {
   "cell_type": "markdown",
   "metadata": {},
   "source": [
    "**5. Multiple Lines**<a id='Multiple_Lines'></a>"
   ]
  },
  {
   "cell_type": "code",
   "execution_count": 25,
   "metadata": {},
   "outputs": [
    {
     "name": "stdout",
     "output_type": "stream",
     "text": [
      "No                  3390\n",
      "Yes                 2971\n",
      "No phone service     682\n",
      "Name: Multiple Lines, dtype: int64\n"
     ]
    }
   ],
   "source": [
    "print(df['Multiple Lines'].value_counts())\n"
   ]
  },
  {
   "cell_type": "code",
   "execution_count": 26,
   "metadata": {},
   "outputs": [
    {
     "name": "stdout",
     "output_type": "stream",
     "text": [
      "Churn Label         No  Yes\n",
      "Multiple Lines             \n",
      "No                2541  849\n",
      "No phone service   512  170\n",
      "Yes               2121  850\n"
     ]
    }
   ],
   "source": [
    "ct4 = pd.crosstab(df['Multiple Lines'], df['Churn Label'])\n",
    "print(ct4)\n",
    "data = [['Yes', (ct4.iloc[2,1]/(ct4.iloc[2,0] + ct4.iloc[2,1])) * 100],\n",
    "         ['No', (ct4.iloc[0,1]/(ct4.iloc[0,0] + ct4.iloc[0,1])) * 100]]\n",
    "gg4 = pd.DataFrame(data, columns = ['Multiple Lines', 'Churn rate'])"
   ]
  },
  {
   "cell_type": "code",
   "execution_count": 27,
   "metadata": {},
   "outputs": [
    {
     "data": {
      "image/png": "[encoded data removed]",
      "text/plain": [
       "<Figure size 1080x360 with 2 Axes>"
      ]
     },
     "metadata": {
      "needs_background": "light"
     },
     "output_type": "display_data"
    }
   ],
   "source": [
    "twoplots('Multiple Lines', gg4)"
   ]
  },
  {
   "cell_type": "markdown",
   "metadata": {},
   "source": [
    "<font color='green'>Having multiple lines is somewhat related to more churning, than single lines (on the right plot, the 'no phone service' has been omitted)."
   ]
  },
  {
   "cell_type": "markdown",
   "metadata": {},
   "source": [
    "**Internet Service**<a id='Internet_Service'></a>"
   ]
  },
  {
   "cell_type": "code",
   "execution_count": 28,
   "metadata": {},
   "outputs": [
    {
     "name": "stdout",
     "output_type": "stream",
     "text": [
      "Fiber optic    3096\n",
      "DSL            2421\n",
      "No             1526\n",
      "Name: Internet Service, dtype: int64\n"
     ]
    }
   ],
   "source": [
    "print(df['Internet Service'].value_counts())"
   ]
  },
  {
   "cell_type": "code",
   "execution_count": 29,
   "metadata": {},
   "outputs": [
    {
     "name": "stdout",
     "output_type": "stream",
     "text": [
      "Churn Label         No   Yes\n",
      "Internet Service            \n",
      "DSL               1962   459\n",
      "Fiber optic       1799  1297\n",
      "No                1413   113\n"
     ]
    }
   ],
   "source": [
    "ct5 = pd.crosstab(df['Internet Service'], df['Churn Label'])\n",
    "print(ct5)\n",
    "\n",
    "data = [['Fiber optic', (ct5.iloc[1,1]/(ct5.iloc[1,0] + ct5.iloc[1,1])) * 100],\n",
    "         ['DSL', (ct5.iloc[0,1]/(ct5.iloc[0,0] + ct5.iloc[0,1])) * 100]]\n",
    "gg5 = pd.DataFrame(data, columns = ['Internet Service', 'Churn rate'])\n"
   ]
  },
  {
   "cell_type": "code",
   "execution_count": 30,
   "metadata": {
    "scrolled": true
   },
   "outputs": [
    {
     "data": {
      "image/png": "[encoded data removed]",
      "text/plain": [
       "<Figure size 1080x360 with 2 Axes>"
      ]
     },
     "metadata": {
      "needs_background": "light"
     },
     "output_type": "display_data"
    }
   ],
   "source": [
    "twoplots('Internet Service', gg5)"
   ]
  },
  {
   "cell_type": "markdown",
   "metadata": {},
   "source": [
    "<font color='green'>People with Fiber optic are > 2 times more likely to churn than those with DSL.\n",
    "\n"
   ]
  },
  {
   "cell_type": "markdown",
   "metadata": {},
   "source": [
    "**Contract**<a id='Contract'></a>"
   ]
  },
  {
   "cell_type": "code",
   "execution_count": 31,
   "metadata": {},
   "outputs": [
    {
     "data": {
      "text/plain": [
       "Month-to-month    3875\n",
       "Two year          1695\n",
       "One year          1473\n",
       "Name: Contract, dtype: int64"
      ]
     },
     "execution_count": 31,
     "metadata": {},
     "output_type": "execute_result"
    }
   ],
   "source": [
    "df['Contract'].value_counts()"
   ]
  },
  {
   "cell_type": "code",
   "execution_count": 32,
   "metadata": {},
   "outputs": [
    {
     "name": "stdout",
     "output_type": "stream",
     "text": [
      "Churn Label       No   Yes\n",
      "Contract                  \n",
      "Month-to-month  2220  1655\n",
      "One year        1307   166\n",
      "Two year        1647    48\n"
     ]
    }
   ],
   "source": [
    "ct6 = pd.crosstab(df['Contract'], df['Churn Label'])\n",
    "print(ct6)\n",
    "\n",
    "data = [['Month-to-Month', (ct6.iloc[0,1]/(ct6.iloc[0,0] + ct6.iloc[0,1])) * 100],\n",
    "         ['One year', (ct6.iloc[1,1]/(ct6.iloc[1,0] + ct6.iloc[1,1])) * 100],\n",
    "       ['Two year', (ct6.iloc[2,1]/(ct6.iloc[2,0] + ct6.iloc[2,1])) * 100]]\n",
    "gg6 = pd.DataFrame(data, columns = ['Contract', 'Churn rate'])"
   ]
  },
  {
   "cell_type": "code",
   "execution_count": 33,
   "metadata": {},
   "outputs": [
    {
     "data": {
      "image/png": "[encoded data removed]",
      "text/plain": [
       "<Figure size 1080x360 with 2 Axes>"
      ]
     },
     "metadata": {
      "needs_background": "light"
     },
     "output_type": "display_data"
    }
   ],
   "source": [
    "twoplots('Contract', gg6)"
   ]
  },
  {
   "cell_type": "markdown",
   "metadata": {},
   "source": [
    "<font color='green'>As expected month-to-month contract customers churn much higher than those of one-year and two-year."
   ]
  },
  {
   "cell_type": "markdown",
   "metadata": {},
   "source": [
    "**Online Security**<a id='Online_Security'></a>"
   ]
  },
  {
   "cell_type": "code",
   "execution_count": 34,
   "metadata": {},
   "outputs": [
    {
     "data": {
      "text/plain": [
       "No                     3498\n",
       "Yes                    2019\n",
       "No internet service    1526\n",
       "Name: Online Security, dtype: int64"
      ]
     },
     "execution_count": 34,
     "metadata": {},
     "output_type": "execute_result"
    }
   ],
   "source": [
    "df['Online Security'].value_counts()"
   ]
  },
  {
   "cell_type": "code",
   "execution_count": 35,
   "metadata": {},
   "outputs": [
    {
     "name": "stdout",
     "output_type": "stream",
     "text": [
      "Churn Label            No   Yes\n",
      "Online Security                \n",
      "No                   2037  1461\n",
      "No internet service  1413   113\n",
      "Yes                  1724   295\n"
     ]
    }
   ],
   "source": [
    "ct7 = pd.crosstab(df['Online Security'], df['Churn Label'])\n",
    "print(ct7)\n",
    "\n",
    "data = [['No', (ct7.iloc[0,1]/(ct7.iloc[0,0] + ct7.iloc[0,1])) * 100],\n",
    "       ['Yes', (ct7.iloc[2,1]/(ct7.iloc[2,0] + ct7.iloc[2,1])) * 100]]\n",
    "gg7 = pd.DataFrame(data, columns = ['Online Security', 'Churn rate'])\n"
   ]
  },
  {
   "cell_type": "code",
   "execution_count": 36,
   "metadata": {},
   "outputs": [
    {
     "data": {
      "image/png": "[encoded data removed]",
      "text/plain": [
       "<Figure size 1080x360 with 2 Axes>"
      ]
     },
     "metadata": {
      "needs_background": "light"
     },
     "output_type": "display_data"
    }
   ],
   "source": [
    "twoplots('Online Security', gg7)"
   ]
  },
  {
   "cell_type": "markdown",
   "metadata": {},
   "source": [
    "**Online Backup**<a id='Online_Backup'></a>"
   ]
  },
  {
   "cell_type": "code",
   "execution_count": 37,
   "metadata": {},
   "outputs": [
    {
     "data": {
      "text/plain": [
       "No                     3088\n",
       "Yes                    2429\n",
       "No internet service    1526\n",
       "Name: Online Backup, dtype: int64"
      ]
     },
     "execution_count": 37,
     "metadata": {},
     "output_type": "execute_result"
    }
   ],
   "source": [
    "df['Online Backup'].value_counts()"
   ]
  },
  {
   "cell_type": "code",
   "execution_count": 38,
   "metadata": {},
   "outputs": [
    {
     "name": "stdout",
     "output_type": "stream",
     "text": [
      "Churn Label            No   Yes\n",
      "Online Backup                  \n",
      "No                   1855  1233\n",
      "No internet service  1413   113\n",
      "Yes                  1906   523\n"
     ]
    }
   ],
   "source": [
    "ct8 = pd.crosstab(df['Online Backup'], df['Churn Label'])\n",
    "print(ct8)\n",
    "data = [['No', (ct8.iloc[0,1]/(ct8.iloc[0,0] + ct8.iloc[0,1])) * 100],\n",
    "       ['Yes', (ct8.iloc[2,1]/(ct8.iloc[2,0] + ct8.iloc[2,1])) * 100]]\n",
    "gg8 = pd.DataFrame(data, columns = ['Online Backup', 'Churn rate'])\n"
   ]
  },
  {
   "cell_type": "code",
   "execution_count": 39,
   "metadata": {},
   "outputs": [
    {
     "data": {
      "image/png": "[encoded data removed]",
      "text/plain": [
       "<Figure size 1080x360 with 2 Axes>"
      ]
     },
     "metadata": {
      "needs_background": "light"
     },
     "output_type": "display_data"
    }
   ],
   "source": [
    "twoplots('Online Backup', gg8)"
   ]
  },
  {
   "cell_type": "markdown",
   "metadata": {},
   "source": [
    "**Device Protection**<a id='Device_Protection'></a>"
   ]
  },
  {
   "cell_type": "code",
   "execution_count": 40,
   "metadata": {},
   "outputs": [
    {
     "data": {
      "text/plain": [
       "No                     3095\n",
       "Yes                    2422\n",
       "No internet service    1526\n",
       "Name: Device Protection, dtype: int64"
      ]
     },
     "execution_count": 40,
     "metadata": {},
     "output_type": "execute_result"
    }
   ],
   "source": [
    "df['Device Protection'].value_counts()"
   ]
  },
  {
   "cell_type": "code",
   "execution_count": 41,
   "metadata": {},
   "outputs": [
    {
     "name": "stdout",
     "output_type": "stream",
     "text": [
      "Churn Label            No   Yes\n",
      "Device Protection              \n",
      "No                   1884  1211\n",
      "No internet service  1413   113\n",
      "Yes                  1877   545\n"
     ]
    }
   ],
   "source": [
    "ct9 = pd.crosstab(df['Device Protection'], df['Churn Label'])\n",
    "print(ct9)\n",
    "\n",
    "data = [['No', (ct9.iloc[0,1]/(ct9.iloc[0,0] + ct9.iloc[0,1])) * 100],\n",
    "       ['Yes', (ct9.iloc[2,1]/(ct9.iloc[2,0] + ct9.iloc[2,1])) * 100]]\n",
    "gg9 = pd.DataFrame(data, columns = ['Device Protection', 'Churn rate'])\n"
   ]
  },
  {
   "cell_type": "code",
   "execution_count": 42,
   "metadata": {},
   "outputs": [
    {
     "data": {
      "image/png": "[encoded data removed]",
      "text/plain": [
       "<Figure size 1080x360 with 2 Axes>"
      ]
     },
     "metadata": {
      "needs_background": "light"
     },
     "output_type": "display_data"
    }
   ],
   "source": [
    "twoplots('Device Protection', gg9)"
   ]
  },
  {
   "cell_type": "markdown",
   "metadata": {},
   "source": [
    "**Tech Support**<a id='Tech_Support'></a>"
   ]
  },
  {
   "cell_type": "code",
   "execution_count": 43,
   "metadata": {},
   "outputs": [
    {
     "data": {
      "text/plain": [
       "No                     3473\n",
       "Yes                    2044\n",
       "No internet service    1526\n",
       "Name: Tech Support, dtype: int64"
      ]
     },
     "execution_count": 43,
     "metadata": {},
     "output_type": "execute_result"
    }
   ],
   "source": [
    "df['Tech Support'].value_counts()"
   ]
  },
  {
   "cell_type": "code",
   "execution_count": 44,
   "metadata": {},
   "outputs": [
    {
     "name": "stdout",
     "output_type": "stream",
     "text": [
      "Churn Label            No   Yes\n",
      "Tech Support                   \n",
      "No                   2027  1446\n",
      "No internet service  1413   113\n",
      "Yes                  1734   310\n"
     ]
    }
   ],
   "source": [
    "ct10 = pd.crosstab(df['Tech Support'], df['Churn Label'])\n",
    "print(ct10)\n",
    "\n",
    "data = [['No', (ct10.iloc[0,1]/(ct10.iloc[0,0] + ct10.iloc[0,1])) * 100],\n",
    "       ['Yes', (ct10.iloc[2,1]/(ct10.iloc[2,0] + ct10.iloc[2,1])) * 100]]\n",
    "gg10 = pd.DataFrame(data, columns = ['Tech Support', 'Churn rate'])\n"
   ]
  },
  {
   "cell_type": "code",
   "execution_count": 45,
   "metadata": {},
   "outputs": [
    {
     "data": {
      "image/png": "[encoded data removed]",
      "text/plain": [
       "<Figure size 1080x360 with 2 Axes>"
      ]
     },
     "metadata": {
      "needs_background": "light"
     },
     "output_type": "display_data"
    }
   ],
   "source": [
    "twoplots('Tech Support', gg10)"
   ]
  },
  {
   "cell_type": "markdown",
   "metadata": {},
   "source": [
    "<font color='green'>Customers without online security, online backup, device protection and tech support seem to churn higher than \n",
    "that of those who have. these feautures can be predictors of churning."
   ]
  },
  {
   "cell_type": "markdown",
   "metadata": {},
   "source": [
    "**Streaming TV**<a id='Streaming_TV'></a>"
   ]
  },
  {
   "cell_type": "code",
   "execution_count": 46,
   "metadata": {},
   "outputs": [
    {
     "data": {
      "text/plain": [
       "No                     2810\n",
       "Yes                    2707\n",
       "No internet service    1526\n",
       "Name: Streaming TV, dtype: int64"
      ]
     },
     "execution_count": 46,
     "metadata": {},
     "output_type": "execute_result"
    }
   ],
   "source": [
    "df['Streaming TV'].value_counts()"
   ]
  },
  {
   "cell_type": "code",
   "execution_count": 47,
   "metadata": {},
   "outputs": [
    {
     "name": "stdout",
     "output_type": "stream",
     "text": [
      "Churn Label            No  Yes\n",
      "Streaming TV                  \n",
      "No                   1868  942\n",
      "No internet service  1413  113\n",
      "Yes                  1893  814\n"
     ]
    }
   ],
   "source": [
    "ct11 = pd.crosstab(df['Streaming TV'], df['Churn Label'])\n",
    "print(ct11)\n",
    "\n",
    "data = [['No', (ct11.iloc[0,1]/(ct11.iloc[0,0] + ct11.iloc[0,1])) * 100],\n",
    "       ['Yes', (ct11.iloc[2,1]/(ct11.iloc[2,0] + ct11.iloc[2,1])) * 100]]\n",
    "gg11 = pd.DataFrame(data, columns = ['Streaming TV', 'Churn rate'])\n"
   ]
  },
  {
   "cell_type": "code",
   "execution_count": 48,
   "metadata": {},
   "outputs": [
    {
     "data": {
      "image/png": "[encoded data removed]",
      "text/plain": [
       "<Figure size 1080x360 with 2 Axes>"
      ]
     },
     "metadata": {
      "needs_background": "light"
     },
     "output_type": "display_data"
    }
   ],
   "source": [
    "twoplots('Streaming TV', gg11)"
   ]
  },
  {
   "cell_type": "markdown",
   "metadata": {},
   "source": [
    "**Streaming Movies**<a id='Streaming_Movies'></a>"
   ]
  },
  {
   "cell_type": "code",
   "execution_count": 49,
   "metadata": {},
   "outputs": [
    {
     "data": {
      "text/plain": [
       "No                     2785\n",
       "Yes                    2732\n",
       "No internet service    1526\n",
       "Name: Streaming Movies, dtype: int64"
      ]
     },
     "execution_count": 49,
     "metadata": {},
     "output_type": "execute_result"
    }
   ],
   "source": [
    "df['Streaming Movies'].value_counts()"
   ]
  },
  {
   "cell_type": "code",
   "execution_count": 50,
   "metadata": {},
   "outputs": [
    {
     "name": "stdout",
     "output_type": "stream",
     "text": [
      "Churn Label            No  Yes\n",
      "Streaming Movies              \n",
      "No                   1847  938\n",
      "No internet service  1413  113\n",
      "Yes                  1914  818\n"
     ]
    }
   ],
   "source": [
    "ct12 = pd.crosstab(df['Streaming Movies'], df['Churn Label'])\n",
    "print(ct12)\n",
    "\n",
    "data = [['No', (ct12.iloc[0,1]/(ct12.iloc[0,0] + ct12.iloc[0,1])) * 100],\n",
    "       ['Yes', (ct12.iloc[2,1]/(ct12.iloc[2,0] + ct12.iloc[2,1])) * 100]]\n",
    "gg12 = pd.DataFrame(data, columns = ['Streaming Movies', 'Churn rate'])\n"
   ]
  },
  {
   "cell_type": "code",
   "execution_count": 51,
   "metadata": {},
   "outputs": [
    {
     "data": {
      "image/png": "[encoded data removed]",
      "text/plain": [
       "<Figure size 1080x360 with 2 Axes>"
      ]
     },
     "metadata": {
      "needs_background": "light"
     },
     "output_type": "display_data"
    }
   ],
   "source": [
    "twoplots('Streaming Movies', gg12)"
   ]
  },
  {
   "cell_type": "markdown",
   "metadata": {},
   "source": [
    "<font color='green'>Having services like streaming movies and streaming TV are not related that much to churn."
   ]
  },
  {
   "cell_type": "markdown",
   "metadata": {},
   "source": [
    "**Paperless Billing**<a id='Paperless_Billing'></a>"
   ]
  },
  {
   "cell_type": "code",
   "execution_count": 52,
   "metadata": {},
   "outputs": [],
   "source": [
    "df_group = df.groupby('City').agg({'Churn Value': ['sum', 'count']})"
   ]
  },
  {
   "cell_type": "code",
   "execution_count": 53,
   "metadata": {},
   "outputs": [],
   "source": [
    "df_group.columns = df_group.columns.droplevel()"
   ]
  },
  {
   "cell_type": "code",
   "execution_count": 54,
   "metadata": {},
   "outputs": [
    {
     "data": {
      "text/plain": [
       "Index(['sum', 'count'], dtype='object')"
      ]
     },
     "execution_count": 54,
     "metadata": {},
     "output_type": "execute_result"
    }
   ],
   "source": [
    "df_group.columns"
   ]
  },
  {
   "cell_type": "code",
   "execution_count": 55,
   "metadata": {},
   "outputs": [],
   "source": [
    "churn_rate = (df_group['sum']/df_group['count'])*100"
   ]
  },
  {
   "cell_type": "code",
   "execution_count": 56,
   "metadata": {},
   "outputs": [],
   "source": [
    "df_group['churn_rate'] = churn_rate"
   ]
  },
  {
   "cell_type": "code",
   "execution_count": 57,
   "metadata": {},
   "outputs": [
    {
     "data": {
      "text/plain": [
       "count    1129.000000\n",
       "mean       26.346558\n",
       "std        21.663294\n",
       "min         0.000000\n",
       "25%         0.000000\n",
       "50%        25.000000\n",
       "75%        40.000000\n",
       "max       100.000000\n",
       "Name: churn_rate, dtype: float64"
      ]
     },
     "execution_count": 57,
     "metadata": {},
     "output_type": "execute_result"
    }
   ],
   "source": [
    "df_group['churn_rate'].describe()"
   ]
  },
  {
   "cell_type": "code",
   "execution_count": 58,
   "metadata": {},
   "outputs": [],
   "source": [
    "excelfile = df_group.to_excel('C:/Users/tnsub/Google Drive/SPRINGBOARD DSC/CustomerChurn_Project/csvfile.xlsx')"
   ]
  },
  {
   "cell_type": "code",
   "execution_count": 59,
   "metadata": {},
   "outputs": [
    {
     "data": {
      "text/plain": [
       "Yes    4171\n",
       "No     2872\n",
       "Name: Paperless Billing, dtype: int64"
      ]
     },
     "execution_count": 59,
     "metadata": {},
     "output_type": "execute_result"
    }
   ],
   "source": [
    "df['Paperless Billing'].value_counts()"
   ]
  },
  {
   "cell_type": "code",
   "execution_count": 60,
   "metadata": {},
   "outputs": [
    {
     "name": "stdout",
     "output_type": "stream",
     "text": [
      "Churn Label          No   Yes\n",
      "Paperless Billing            \n",
      "No                 2403   469\n",
      "Yes                2771  1400\n"
     ]
    }
   ],
   "source": [
    "ct13 = pd.crosstab(df['Paperless Billing'], df['Churn Label'])\n",
    "print(ct13)\n",
    "\n",
    "data = [['No', (ct13.iloc[0,1]/(ct13.iloc[0,0] + ct13.iloc[0,1])) * 100],\n",
    "       ['Yes', (ct13.iloc[1,1]/(ct13.iloc[1,0] + ct13.iloc[1,1])) * 100]]\n",
    "gg13 = pd.DataFrame(data, columns = ['Paperless Billing', 'Churn rate'])\n"
   ]
  },
  {
   "cell_type": "code",
   "execution_count": 61,
   "metadata": {},
   "outputs": [
    {
     "data": {
      "image/png": "[encoded data removed]",
      "text/plain": [
       "<Figure size 1080x360 with 2 Axes>"
      ]
     },
     "metadata": {
      "needs_background": "light"
     },
     "output_type": "display_data"
    }
   ],
   "source": [
    "twoplots('Paperless Billing', gg13)"
   ]
  },
  {
   "cell_type": "markdown",
   "metadata": {},
   "source": [
    "<font color='green'>Paperless billing option leads customers to churn more than those with paper bills."
   ]
  },
  {
   "cell_type": "markdown",
   "metadata": {},
   "source": [
    "**Payment Method**<a id='Payment_Method'></a>"
   ]
  },
  {
   "cell_type": "code",
   "execution_count": 62,
   "metadata": {},
   "outputs": [
    {
     "data": {
      "text/plain": [
       "Electronic check             2365\n",
       "Mailed check                 1612\n",
       "Bank transfer (automatic)    1544\n",
       "Credit card (automatic)      1522\n",
       "Name: Payment Method, dtype: int64"
      ]
     },
     "execution_count": 62,
     "metadata": {},
     "output_type": "execute_result"
    }
   ],
   "source": [
    "df['Payment Method'].value_counts()"
   ]
  },
  {
   "cell_type": "code",
   "execution_count": 63,
   "metadata": {},
   "outputs": [
    {
     "name": "stdout",
     "output_type": "stream",
     "text": [
      "Churn Label                  No   Yes\n",
      "Payment Method                       \n",
      "Bank transfer (automatic)  1286   258\n",
      "Credit card (automatic)    1290   232\n",
      "Electronic check           1294  1071\n",
      "Mailed check               1304   308\n"
     ]
    }
   ],
   "source": [
    "ct14 = pd.crosstab(df['Payment Method'], df['Churn Label'])\n",
    "print(ct14)\n",
    "\n",
    "data = [['Bank transfer', (ct14.iloc[0,1]/(ct14.iloc[0,0] + ct14.iloc[0,1])) * 100],\n",
    "       ['Credit Card', (ct14.iloc[1,1]/(ct14.iloc[1,0] + ct14.iloc[1,1])) * 100],\n",
    "       ['Electronic check',(ct14.iloc[2,1]/(ct14.iloc[2,0] + ct14.iloc[2,1])) *100],\n",
    "       ['Mailed check', (ct14.iloc[3,1]/(ct14.iloc[3,0] + ct14.iloc[3,1])) * 100]]\n",
    "gg14 = pd.DataFrame(data, columns = ['Payment Method', 'Churn rate'])"
   ]
  },
  {
   "cell_type": "code",
   "execution_count": 64,
   "metadata": {},
   "outputs": [
    {
     "data": {
      "image/png": "[encoded data removed]",
      "text/plain": [
       "<Figure size 1080x360 with 2 Axes>"
      ]
     },
     "metadata": {
      "needs_background": "light"
     },
     "output_type": "display_data"
    }
   ],
   "source": [
    "twoplots('Payment Method', gg14)"
   ]
  },
  {
   "cell_type": "markdown",
   "metadata": {},
   "source": [
    "<font color='green'>Of the sample those who pay with electronic check churn much higher than that of those with other payment options."
   ]
  },
  {
   "cell_type": "markdown",
   "metadata": {},
   "source": [
    "**Tenure Months**<a id='Tenure_Months'></a>"
   ]
  },
  {
   "cell_type": "code",
   "execution_count": 65,
   "metadata": {},
   "outputs": [
    {
     "name": "stdout",
     "output_type": "stream",
     "text": [
      "count    7043.000000\n",
      "mean       32.371149\n",
      "std        24.559481\n",
      "min         0.000000\n",
      "25%         9.000000\n",
      "50%        29.000000\n",
      "75%        55.000000\n",
      "max        72.000000\n",
      "Name: Tenure Months, dtype: float64\n"
     ]
    },
    {
     "data": {
      "image/png": "[encoded data removed]",
      "text/plain": [
       "<Figure size 432x288 with 1 Axes>"
      ]
     },
     "metadata": {
      "needs_background": "light"
     },
     "output_type": "display_data"
    }
   ],
   "source": [
    "# Tenure is the amount of time the customer has contract with the company, measured in months\n",
    "print(df['Tenure Months'].describe())\n",
    "#Histogram to show distribution of values\n",
    "sns.histplot(df['Tenure Months'])\n",
    "plt.show()\n"
   ]
  },
  {
   "cell_type": "code",
   "execution_count": 66,
   "metadata": {},
   "outputs": [
    {
     "data": {
      "image/png": "[encoded data removed]",
      "text/plain": [
       "<Figure size 432x288 with 1 Axes>"
      ]
     },
     "metadata": {
      "needs_background": "light"
     },
     "output_type": "display_data"
    }
   ],
   "source": [
    "sns.boxplot(x='Tenure Months', y='Churn Label', data=df)\n",
    "plt.show()"
   ]
  },
  {
   "cell_type": "code",
   "execution_count": 67,
   "metadata": {},
   "outputs": [
    {
     "data": {
      "text/html": [
       "<div>\n",
       "<style scoped>\n",
       "    .dataframe tbody tr th:only-of-type {\n",
       "        vertical-align: middle;\n",
       "    }\n",
       "\n",
       "    .dataframe tbody tr th {\n",
       "        vertical-align: top;\n",
       "    }\n",
       "\n",
       "    .dataframe thead tr th {\n",
       "        text-align: left;\n",
       "    }\n",
       "\n",
       "    .dataframe thead tr:last-of-type th {\n",
       "        text-align: right;\n",
       "    }\n",
       "</style>\n",
       "<table border=\"1\" class=\"dataframe\">\n",
       "  <thead>\n",
       "    <tr>\n",
       "      <th></th>\n",
       "      <th colspan=\"4\" halign=\"left\">Tenure Months</th>\n",
       "    </tr>\n",
       "    <tr>\n",
       "      <th></th>\n",
       "      <th>mean</th>\n",
       "      <th>median</th>\n",
       "      <th>min</th>\n",
       "      <th>max</th>\n",
       "    </tr>\n",
       "    <tr>\n",
       "      <th>Churn Label</th>\n",
       "      <th></th>\n",
       "      <th></th>\n",
       "      <th></th>\n",
       "      <th></th>\n",
       "    </tr>\n",
       "  </thead>\n",
       "  <tbody>\n",
       "    <tr>\n",
       "      <th>No</th>\n",
       "      <td>37.569965</td>\n",
       "      <td>38</td>\n",
       "      <td>0</td>\n",
       "      <td>72</td>\n",
       "    </tr>\n",
       "    <tr>\n",
       "      <th>Yes</th>\n",
       "      <td>17.979133</td>\n",
       "      <td>10</td>\n",
       "      <td>1</td>\n",
       "      <td>72</td>\n",
       "    </tr>\n",
       "  </tbody>\n",
       "</table>\n",
       "</div>"
      ],
      "text/plain": [
       "            Tenure Months               \n",
       "                     mean median min max\n",
       "Churn Label                             \n",
       "No              37.569965     38   0  72\n",
       "Yes             17.979133     10   1  72"
      ]
     },
     "execution_count": 67,
     "metadata": {},
     "output_type": "execute_result"
    }
   ],
   "source": [
    "df.groupby('Churn Label').agg({'Tenure Months': ['mean', 'median', 'min', 'max']})"
   ]
  },
  {
   "cell_type": "markdown",
   "metadata": {},
   "source": [
    "<font color='green'>The above table shows that those who churn on average have less number of tenure months compared to those\n",
    "didn't churn."
   ]
  },
  {
   "cell_type": "markdown",
   "metadata": {},
   "source": [
    "**Charges**<a id='Charges'></a>\\\n",
    "The data has 2 different charges, monthly charges and total charges, it's not very clear if the monthly charges is the average charges or the charges for the last month. So I also calculated average charges by dividing total charges by the number of months which is the tenure. It turns out that the average charges I calculated is very close to the values of monthly charges in the data, although there's discrepancies of few dollars. I decided to use the average charges I calculated as it is more reflective of the total charges and tenure.\n",
    "Following will focus on examining monthly charges, total charges and calculating average charges."
   ]
  },
  {
   "cell_type": "code",
   "execution_count": 68,
   "metadata": {},
   "outputs": [
    {
     "name": "stdout",
     "output_type": "stream",
     "text": [
      "count    7043.000000\n",
      "mean       64.761692\n",
      "std        30.090047\n",
      "min        18.250000\n",
      "25%        35.500000\n",
      "50%        70.350000\n",
      "75%        89.850000\n",
      "max       118.750000\n",
      "Name: Monthly Charges, dtype: float64\n"
     ]
    },
    {
     "data": {
      "image/png": "[encoded data removed]",
      "text/plain": [
       "<Figure size 432x288 with 1 Axes>"
      ]
     },
     "metadata": {
      "needs_background": "light"
     },
     "output_type": "display_data"
    }
   ],
   "source": [
    "# MONTHLY CHARGES\n",
    "print(df['Monthly Charges'].describe())\n",
    "sns.histplot(df['Monthly Charges'])\n",
    "plt.show()\n"
   ]
  },
  {
   "cell_type": "markdown",
   "metadata": {},
   "source": [
    "From the histplot we can say that around 17% have monthly charges in the range between 20-30 dollars, the max is around 120 dollars and the mean charges are around $65."
   ]
  },
  {
   "cell_type": "code",
   "execution_count": 69,
   "metadata": {},
   "outputs": [
    {
     "data": {
      "image/png": "[encoded data removed]",
      "text/plain": [
       "<Figure size 432x288 with 1 Axes>"
      ]
     },
     "metadata": {
      "needs_background": "light"
     },
     "output_type": "display_data"
    }
   ],
   "source": [
    "sns.boxplot(x='Monthly Charges', y='Churn Label', data=df)\n",
    "plt.show()"
   ]
  },
  {
   "cell_type": "markdown",
   "metadata": {},
   "source": [
    "seems like those with higher monthly charges are more likely to churn."
   ]
  },
  {
   "cell_type": "code",
   "execution_count": 70,
   "metadata": {},
   "outputs": [],
   "source": [
    "# TOTAL CHARGES\n",
    "#For 11 rows the total charges were missing. After determinging that the tenure = 0 for them, the total charges for those rows were made equal to the monthly charges.\n",
    "# first they were made NaNs and then those values were imputed with the monthly charges.\n",
    "# this column was also made into numeric.\n",
    "df['Total Charges'] = df['Total Charges'].replace(' ', np.NaN)"
   ]
  },
  {
   "cell_type": "code",
   "execution_count": 71,
   "metadata": {},
   "outputs": [],
   "source": [
    "df['Total Charges'] = df['Total Charges'].fillna(df['Monthly Charges'])"
   ]
  },
  {
   "cell_type": "code",
   "execution_count": 72,
   "metadata": {},
   "outputs": [],
   "source": [
    "df['Total Charges'] = pd.to_numeric(df['Total Charges'])"
   ]
  },
  {
   "cell_type": "code",
   "execution_count": 73,
   "metadata": {},
   "outputs": [
    {
     "data": {
      "text/plain": [
       "count    7043.000000\n",
       "mean     2279.798992\n",
       "std      2266.730170\n",
       "min        18.800000\n",
       "25%       398.550000\n",
       "50%      1394.550000\n",
       "75%      3786.600000\n",
       "max      8684.800000\n",
       "Name: Total Charges, dtype: float64"
      ]
     },
     "execution_count": 73,
     "metadata": {},
     "output_type": "execute_result"
    }
   ],
   "source": [
    "df['Total Charges'].describe()"
   ]
  },
  {
   "cell_type": "code",
   "execution_count": 74,
   "metadata": {},
   "outputs": [
    {
     "data": {
      "image/png": "[encoded data removed]",
      "text/plain": [
       "<Figure size 432x288 with 1 Axes>"
      ]
     },
     "metadata": {
      "needs_background": "light"
     },
     "output_type": "display_data"
    }
   ],
   "source": [
    "sns.histplot(df['Total Charges'])\n",
    "plt.show()"
   ]
  },
  {
   "cell_type": "code",
   "execution_count": 75,
   "metadata": {},
   "outputs": [],
   "source": [
    "# Calculating Average Monthly Charges\n",
    "df['Average Monthly Charges'] = df['Total Charges']/df['Tenure Months']"
   ]
  },
  {
   "cell_type": "code",
   "execution_count": 76,
   "metadata": {},
   "outputs": [
    {
     "data": {
      "image/png": "[encoded data removed]",
      "text/plain": [
       "<Figure size 432x288 with 1 Axes>"
      ]
     },
     "metadata": {
      "needs_background": "light"
     },
     "output_type": "display_data"
    }
   ],
   "source": [
    "sns.boxplot(x='Average Monthly Charges', y='Churn Label', data=df)\n",
    "plt.show()"
   ]
  },
  {
   "cell_type": "code",
   "execution_count": 77,
   "metadata": {},
   "outputs": [
    {
     "data": {
      "text/html": [
       "<div>\n",
       "<style scoped>\n",
       "    .dataframe tbody tr th:only-of-type {\n",
       "        vertical-align: middle;\n",
       "    }\n",
       "\n",
       "    .dataframe tbody tr th {\n",
       "        vertical-align: top;\n",
       "    }\n",
       "\n",
       "    .dataframe thead th {\n",
       "        text-align: right;\n",
       "    }\n",
       "</style>\n",
       "<table border=\"1\" class=\"dataframe\">\n",
       "  <thead>\n",
       "    <tr style=\"text-align: right;\">\n",
       "      <th></th>\n",
       "      <th>CustomerID</th>\n",
       "      <th>City</th>\n",
       "      <th>Zip Code</th>\n",
       "      <th>Latitude</th>\n",
       "      <th>Longitude</th>\n",
       "      <th>Gender</th>\n",
       "      <th>Senior Citizen</th>\n",
       "      <th>Partner</th>\n",
       "      <th>Dependents</th>\n",
       "      <th>Tenure Months</th>\n",
       "      <th>Phone Service</th>\n",
       "      <th>Multiple Lines</th>\n",
       "      <th>Internet Service</th>\n",
       "      <th>Online Security</th>\n",
       "      <th>Online Backup</th>\n",
       "      <th>Device Protection</th>\n",
       "      <th>Tech Support</th>\n",
       "      <th>Streaming TV</th>\n",
       "      <th>Streaming Movies</th>\n",
       "      <th>Contract</th>\n",
       "      <th>Paperless Billing</th>\n",
       "      <th>Payment Method</th>\n",
       "      <th>Monthly Charges</th>\n",
       "      <th>Total Charges</th>\n",
       "      <th>Churn Label</th>\n",
       "      <th>Churn Value</th>\n",
       "      <th>Churn Score</th>\n",
       "      <th>CLTV</th>\n",
       "      <th>Churn Reason</th>\n",
       "      <th>Average Monthly Charges</th>\n",
       "    </tr>\n",
       "  </thead>\n",
       "  <tbody>\n",
       "    <tr>\n",
       "      <th>2234</th>\n",
       "      <td>4472-LVYGI</td>\n",
       "      <td>San Bernardino</td>\n",
       "      <td>92408</td>\n",
       "      <td>34.084909</td>\n",
       "      <td>-117.258107</td>\n",
       "      <td>Female</td>\n",
       "      <td>No</td>\n",
       "      <td>Yes</td>\n",
       "      <td>No</td>\n",
       "      <td>0</td>\n",
       "      <td>No</td>\n",
       "      <td>No phone service</td>\n",
       "      <td>DSL</td>\n",
       "      <td>Yes</td>\n",
       "      <td>No</td>\n",
       "      <td>Yes</td>\n",
       "      <td>Yes</td>\n",
       "      <td>Yes</td>\n",
       "      <td>No</td>\n",
       "      <td>Two year</td>\n",
       "      <td>Yes</td>\n",
       "      <td>Bank transfer (automatic)</td>\n",
       "      <td>52.55</td>\n",
       "      <td>52.55</td>\n",
       "      <td>No</td>\n",
       "      <td>0</td>\n",
       "      <td>36</td>\n",
       "      <td>2578</td>\n",
       "      <td>NaN</td>\n",
       "      <td>inf</td>\n",
       "    </tr>\n",
       "    <tr>\n",
       "      <th>2438</th>\n",
       "      <td>3115-CZMZD</td>\n",
       "      <td>Independence</td>\n",
       "      <td>93526</td>\n",
       "      <td>36.869584</td>\n",
       "      <td>-118.189241</td>\n",
       "      <td>Male</td>\n",
       "      <td>No</td>\n",
       "      <td>No</td>\n",
       "      <td>No</td>\n",
       "      <td>0</td>\n",
       "      <td>Yes</td>\n",
       "      <td>No</td>\n",
       "      <td>No</td>\n",
       "      <td>No internet service</td>\n",
       "      <td>No internet service</td>\n",
       "      <td>No internet service</td>\n",
       "      <td>No internet service</td>\n",
       "      <td>No internet service</td>\n",
       "      <td>No internet service</td>\n",
       "      <td>Two year</td>\n",
       "      <td>No</td>\n",
       "      <td>Mailed check</td>\n",
       "      <td>20.25</td>\n",
       "      <td>20.25</td>\n",
       "      <td>No</td>\n",
       "      <td>0</td>\n",
       "      <td>68</td>\n",
       "      <td>5504</td>\n",
       "      <td>NaN</td>\n",
       "      <td>inf</td>\n",
       "    </tr>\n",
       "    <tr>\n",
       "      <th>2568</th>\n",
       "      <td>5709-LVOEQ</td>\n",
       "      <td>San Mateo</td>\n",
       "      <td>94401</td>\n",
       "      <td>37.590421</td>\n",
       "      <td>-122.306467</td>\n",
       "      <td>Female</td>\n",
       "      <td>No</td>\n",
       "      <td>Yes</td>\n",
       "      <td>No</td>\n",
       "      <td>0</td>\n",
       "      <td>Yes</td>\n",
       "      <td>No</td>\n",
       "      <td>DSL</td>\n",
       "      <td>Yes</td>\n",
       "      <td>Yes</td>\n",
       "      <td>Yes</td>\n",
       "      <td>No</td>\n",
       "      <td>Yes</td>\n",
       "      <td>Yes</td>\n",
       "      <td>Two year</td>\n",
       "      <td>No</td>\n",
       "      <td>Mailed check</td>\n",
       "      <td>80.85</td>\n",
       "      <td>80.85</td>\n",
       "      <td>No</td>\n",
       "      <td>0</td>\n",
       "      <td>45</td>\n",
       "      <td>2048</td>\n",
       "      <td>NaN</td>\n",
       "      <td>inf</td>\n",
       "    </tr>\n",
       "    <tr>\n",
       "      <th>2667</th>\n",
       "      <td>4367-NUYAO</td>\n",
       "      <td>Cupertino</td>\n",
       "      <td>95014</td>\n",
       "      <td>37.306612</td>\n",
       "      <td>-122.080621</td>\n",
       "      <td>Male</td>\n",
       "      <td>No</td>\n",
       "      <td>Yes</td>\n",
       "      <td>Yes</td>\n",
       "      <td>0</td>\n",
       "      <td>Yes</td>\n",
       "      <td>Yes</td>\n",
       "      <td>No</td>\n",
       "      <td>No internet service</td>\n",
       "      <td>No internet service</td>\n",
       "      <td>No internet service</td>\n",
       "      <td>No internet service</td>\n",
       "      <td>No internet service</td>\n",
       "      <td>No internet service</td>\n",
       "      <td>Two year</td>\n",
       "      <td>No</td>\n",
       "      <td>Mailed check</td>\n",
       "      <td>25.75</td>\n",
       "      <td>25.75</td>\n",
       "      <td>No</td>\n",
       "      <td>0</td>\n",
       "      <td>48</td>\n",
       "      <td>4950</td>\n",
       "      <td>NaN</td>\n",
       "      <td>inf</td>\n",
       "    </tr>\n",
       "    <tr>\n",
       "      <th>2856</th>\n",
       "      <td>1371-DWPAZ</td>\n",
       "      <td>Redcrest</td>\n",
       "      <td>95569</td>\n",
       "      <td>40.363446</td>\n",
       "      <td>-123.835041</td>\n",
       "      <td>Female</td>\n",
       "      <td>No</td>\n",
       "      <td>Yes</td>\n",
       "      <td>No</td>\n",
       "      <td>0</td>\n",
       "      <td>No</td>\n",
       "      <td>No phone service</td>\n",
       "      <td>DSL</td>\n",
       "      <td>Yes</td>\n",
       "      <td>Yes</td>\n",
       "      <td>Yes</td>\n",
       "      <td>Yes</td>\n",
       "      <td>Yes</td>\n",
       "      <td>No</td>\n",
       "      <td>Two year</td>\n",
       "      <td>No</td>\n",
       "      <td>Credit card (automatic)</td>\n",
       "      <td>56.05</td>\n",
       "      <td>56.05</td>\n",
       "      <td>No</td>\n",
       "      <td>0</td>\n",
       "      <td>30</td>\n",
       "      <td>4740</td>\n",
       "      <td>NaN</td>\n",
       "      <td>inf</td>\n",
       "    </tr>\n",
       "    <tr>\n",
       "      <th>4331</th>\n",
       "      <td>7644-OMVMY</td>\n",
       "      <td>Los Angeles</td>\n",
       "      <td>90029</td>\n",
       "      <td>34.089953</td>\n",
       "      <td>-118.294824</td>\n",
       "      <td>Male</td>\n",
       "      <td>No</td>\n",
       "      <td>Yes</td>\n",
       "      <td>Yes</td>\n",
       "      <td>0</td>\n",
       "      <td>Yes</td>\n",
       "      <td>No</td>\n",
       "      <td>No</td>\n",
       "      <td>No internet service</td>\n",
       "      <td>No internet service</td>\n",
       "      <td>No internet service</td>\n",
       "      <td>No internet service</td>\n",
       "      <td>No internet service</td>\n",
       "      <td>No internet service</td>\n",
       "      <td>Two year</td>\n",
       "      <td>No</td>\n",
       "      <td>Mailed check</td>\n",
       "      <td>19.85</td>\n",
       "      <td>19.85</td>\n",
       "      <td>No</td>\n",
       "      <td>0</td>\n",
       "      <td>53</td>\n",
       "      <td>2019</td>\n",
       "      <td>NaN</td>\n",
       "      <td>inf</td>\n",
       "    </tr>\n",
       "    <tr>\n",
       "      <th>4687</th>\n",
       "      <td>3213-VVOLG</td>\n",
       "      <td>Sun City</td>\n",
       "      <td>92585</td>\n",
       "      <td>33.739412</td>\n",
       "      <td>-117.173334</td>\n",
       "      <td>Male</td>\n",
       "      <td>No</td>\n",
       "      <td>Yes</td>\n",
       "      <td>Yes</td>\n",
       "      <td>0</td>\n",
       "      <td>Yes</td>\n",
       "      <td>Yes</td>\n",
       "      <td>No</td>\n",
       "      <td>No internet service</td>\n",
       "      <td>No internet service</td>\n",
       "      <td>No internet service</td>\n",
       "      <td>No internet service</td>\n",
       "      <td>No internet service</td>\n",
       "      <td>No internet service</td>\n",
       "      <td>Two year</td>\n",
       "      <td>No</td>\n",
       "      <td>Mailed check</td>\n",
       "      <td>25.35</td>\n",
       "      <td>25.35</td>\n",
       "      <td>No</td>\n",
       "      <td>0</td>\n",
       "      <td>49</td>\n",
       "      <td>2299</td>\n",
       "      <td>NaN</td>\n",
       "      <td>inf</td>\n",
       "    </tr>\n",
       "    <tr>\n",
       "      <th>5104</th>\n",
       "      <td>2520-SGTTA</td>\n",
       "      <td>Ben Lomond</td>\n",
       "      <td>95005</td>\n",
       "      <td>37.078873</td>\n",
       "      <td>-122.090386</td>\n",
       "      <td>Female</td>\n",
       "      <td>No</td>\n",
       "      <td>Yes</td>\n",
       "      <td>Yes</td>\n",
       "      <td>0</td>\n",
       "      <td>Yes</td>\n",
       "      <td>No</td>\n",
       "      <td>No</td>\n",
       "      <td>No internet service</td>\n",
       "      <td>No internet service</td>\n",
       "      <td>No internet service</td>\n",
       "      <td>No internet service</td>\n",
       "      <td>No internet service</td>\n",
       "      <td>No internet service</td>\n",
       "      <td>Two year</td>\n",
       "      <td>No</td>\n",
       "      <td>Mailed check</td>\n",
       "      <td>20.00</td>\n",
       "      <td>20.00</td>\n",
       "      <td>No</td>\n",
       "      <td>0</td>\n",
       "      <td>27</td>\n",
       "      <td>3763</td>\n",
       "      <td>NaN</td>\n",
       "      <td>inf</td>\n",
       "    </tr>\n",
       "    <tr>\n",
       "      <th>5719</th>\n",
       "      <td>2923-ARZLG</td>\n",
       "      <td>La Verne</td>\n",
       "      <td>91750</td>\n",
       "      <td>34.144703</td>\n",
       "      <td>-117.770299</td>\n",
       "      <td>Male</td>\n",
       "      <td>No</td>\n",
       "      <td>Yes</td>\n",
       "      <td>Yes</td>\n",
       "      <td>0</td>\n",
       "      <td>Yes</td>\n",
       "      <td>No</td>\n",
       "      <td>No</td>\n",
       "      <td>No internet service</td>\n",
       "      <td>No internet service</td>\n",
       "      <td>No internet service</td>\n",
       "      <td>No internet service</td>\n",
       "      <td>No internet service</td>\n",
       "      <td>No internet service</td>\n",
       "      <td>One year</td>\n",
       "      <td>Yes</td>\n",
       "      <td>Mailed check</td>\n",
       "      <td>19.70</td>\n",
       "      <td>19.70</td>\n",
       "      <td>No</td>\n",
       "      <td>0</td>\n",
       "      <td>69</td>\n",
       "      <td>4890</td>\n",
       "      <td>NaN</td>\n",
       "      <td>inf</td>\n",
       "    </tr>\n",
       "    <tr>\n",
       "      <th>6772</th>\n",
       "      <td>4075-WKNIU</td>\n",
       "      <td>Bell</td>\n",
       "      <td>90201</td>\n",
       "      <td>33.970343</td>\n",
       "      <td>-118.171368</td>\n",
       "      <td>Female</td>\n",
       "      <td>No</td>\n",
       "      <td>Yes</td>\n",
       "      <td>Yes</td>\n",
       "      <td>0</td>\n",
       "      <td>Yes</td>\n",
       "      <td>Yes</td>\n",
       "      <td>DSL</td>\n",
       "      <td>No</td>\n",
       "      <td>Yes</td>\n",
       "      <td>Yes</td>\n",
       "      <td>Yes</td>\n",
       "      <td>Yes</td>\n",
       "      <td>No</td>\n",
       "      <td>Two year</td>\n",
       "      <td>No</td>\n",
       "      <td>Mailed check</td>\n",
       "      <td>73.35</td>\n",
       "      <td>73.35</td>\n",
       "      <td>No</td>\n",
       "      <td>0</td>\n",
       "      <td>44</td>\n",
       "      <td>2342</td>\n",
       "      <td>NaN</td>\n",
       "      <td>inf</td>\n",
       "    </tr>\n",
       "    <tr>\n",
       "      <th>6840</th>\n",
       "      <td>2775-SEFEE</td>\n",
       "      <td>Wilmington</td>\n",
       "      <td>90744</td>\n",
       "      <td>33.782068</td>\n",
       "      <td>-118.262263</td>\n",
       "      <td>Male</td>\n",
       "      <td>No</td>\n",
       "      <td>No</td>\n",
       "      <td>Yes</td>\n",
       "      <td>0</td>\n",
       "      <td>Yes</td>\n",
       "      <td>Yes</td>\n",
       "      <td>DSL</td>\n",
       "      <td>Yes</td>\n",
       "      <td>Yes</td>\n",
       "      <td>No</td>\n",
       "      <td>Yes</td>\n",
       "      <td>No</td>\n",
       "      <td>No</td>\n",
       "      <td>Two year</td>\n",
       "      <td>Yes</td>\n",
       "      <td>Bank transfer (automatic)</td>\n",
       "      <td>61.90</td>\n",
       "      <td>61.90</td>\n",
       "      <td>No</td>\n",
       "      <td>0</td>\n",
       "      <td>65</td>\n",
       "      <td>5188</td>\n",
       "      <td>NaN</td>\n",
       "      <td>inf</td>\n",
       "    </tr>\n",
       "  </tbody>\n",
       "</table>\n",
       "</div>"
      ],
      "text/plain": [
       "      CustomerID            City  Zip Code   Latitude   Longitude  Gender  \\\n",
       "2234  4472-LVYGI  San Bernardino     92408  34.084909 -117.258107  Female   \n",
       "2438  3115-CZMZD    Independence     93526  36.869584 -118.189241    Male   \n",
       "2568  5709-LVOEQ       San Mateo     94401  37.590421 -122.306467  Female   \n",
       "2667  4367-NUYAO       Cupertino     95014  37.306612 -122.080621    Male   \n",
       "2856  1371-DWPAZ        Redcrest     95569  40.363446 -123.835041  Female   \n",
       "4331  7644-OMVMY     Los Angeles     90029  34.089953 -118.294824    Male   \n",
       "4687  3213-VVOLG        Sun City     92585  33.739412 -117.173334    Male   \n",
       "5104  2520-SGTTA      Ben Lomond     95005  37.078873 -122.090386  Female   \n",
       "5719  2923-ARZLG        La Verne     91750  34.144703 -117.770299    Male   \n",
       "6772  4075-WKNIU            Bell     90201  33.970343 -118.171368  Female   \n",
       "6840  2775-SEFEE      Wilmington     90744  33.782068 -118.262263    Male   \n",
       "\n",
       "     Senior Citizen Partner Dependents  Tenure Months Phone Service  \\\n",
       "2234             No     Yes         No              0            No   \n",
       "2438             No      No         No              0           Yes   \n",
       "2568             No     Yes         No              0           Yes   \n",
       "2667             No     Yes        Yes              0           Yes   \n",
       "2856             No     Yes         No              0            No   \n",
       "4331             No     Yes        Yes              0           Yes   \n",
       "4687             No     Yes        Yes              0           Yes   \n",
       "5104             No     Yes        Yes              0           Yes   \n",
       "5719             No     Yes        Yes              0           Yes   \n",
       "6772             No     Yes        Yes              0           Yes   \n",
       "6840             No      No        Yes              0           Yes   \n",
       "\n",
       "        Multiple Lines Internet Service      Online Security  \\\n",
       "2234  No phone service              DSL                  Yes   \n",
       "2438                No               No  No internet service   \n",
       "2568                No              DSL                  Yes   \n",
       "2667               Yes               No  No internet service   \n",
       "2856  No phone service              DSL                  Yes   \n",
       "4331                No               No  No internet service   \n",
       "4687               Yes               No  No internet service   \n",
       "5104                No               No  No internet service   \n",
       "5719                No               No  No internet service   \n",
       "6772               Yes              DSL                   No   \n",
       "6840               Yes              DSL                  Yes   \n",
       "\n",
       "            Online Backup    Device Protection         Tech Support  \\\n",
       "2234                   No                  Yes                  Yes   \n",
       "2438  No internet service  No internet service  No internet service   \n",
       "2568                  Yes                  Yes                   No   \n",
       "2667  No internet service  No internet service  No internet service   \n",
       "2856                  Yes                  Yes                  Yes   \n",
       "4331  No internet service  No internet service  No internet service   \n",
       "4687  No internet service  No internet service  No internet service   \n",
       "5104  No internet service  No internet service  No internet service   \n",
       "5719  No internet service  No internet service  No internet service   \n",
       "6772                  Yes                  Yes                  Yes   \n",
       "6840                  Yes                   No                  Yes   \n",
       "\n",
       "             Streaming TV     Streaming Movies  Contract Paperless Billing  \\\n",
       "2234                  Yes                   No  Two year               Yes   \n",
       "2438  No internet service  No internet service  Two year                No   \n",
       "2568                  Yes                  Yes  Two year                No   \n",
       "2667  No internet service  No internet service  Two year                No   \n",
       "2856                  Yes                   No  Two year                No   \n",
       "4331  No internet service  No internet service  Two year                No   \n",
       "4687  No internet service  No internet service  Two year                No   \n",
       "5104  No internet service  No internet service  Two year                No   \n",
       "5719  No internet service  No internet service  One year               Yes   \n",
       "6772                  Yes                   No  Two year                No   \n",
       "6840                   No                   No  Two year               Yes   \n",
       "\n",
       "                 Payment Method  Monthly Charges  Total Charges Churn Label  \\\n",
       "2234  Bank transfer (automatic)            52.55          52.55          No   \n",
       "2438               Mailed check            20.25          20.25          No   \n",
       "2568               Mailed check            80.85          80.85          No   \n",
       "2667               Mailed check            25.75          25.75          No   \n",
       "2856    Credit card (automatic)            56.05          56.05          No   \n",
       "4331               Mailed check            19.85          19.85          No   \n",
       "4687               Mailed check            25.35          25.35          No   \n",
       "5104               Mailed check            20.00          20.00          No   \n",
       "5719               Mailed check            19.70          19.70          No   \n",
       "6772               Mailed check            73.35          73.35          No   \n",
       "6840  Bank transfer (automatic)            61.90          61.90          No   \n",
       "\n",
       "      Churn Value  Churn Score  CLTV Churn Reason  Average Monthly Charges  \n",
       "2234            0           36  2578          NaN                      inf  \n",
       "2438            0           68  5504          NaN                      inf  \n",
       "2568            0           45  2048          NaN                      inf  \n",
       "2667            0           48  4950          NaN                      inf  \n",
       "2856            0           30  4740          NaN                      inf  \n",
       "4331            0           53  2019          NaN                      inf  \n",
       "4687            0           49  2299          NaN                      inf  \n",
       "5104            0           27  3763          NaN                      inf  \n",
       "5719            0           69  4890          NaN                      inf  \n",
       "6772            0           44  2342          NaN                      inf  \n",
       "6840            0           65  5188          NaN                      inf  "
      ]
     },
     "execution_count": 77,
     "metadata": {},
     "output_type": "execute_result"
    }
   ],
   "source": [
    "#For tenure = 0, rows the monthly charges turned out to be infinite values. So this had to be corrected\n",
    "df.loc[df['Tenure Months']==0]"
   ]
  },
  {
   "cell_type": "code",
   "execution_count": 78,
   "metadata": {},
   "outputs": [],
   "source": [
    "# These infinite values were replaced with NaNs and then they were imputed with respective monthly charges in 3 lines of code.\n",
    "df['Average Monthly Charges'] = df['Average Monthly Charges'].replace([np.inf,-np.inf], np.NaN)"
   ]
  },
  {
   "cell_type": "code",
   "execution_count": 79,
   "metadata": {},
   "outputs": [
    {
     "data": {
      "text/plain": [
       "False    7032\n",
       "True       11\n",
       "Name: Average Monthly Charges, dtype: int64"
      ]
     },
     "execution_count": 79,
     "metadata": {},
     "output_type": "execute_result"
    }
   ],
   "source": [
    "df['Average Monthly Charges'].isnull().value_counts()"
   ]
  },
  {
   "cell_type": "code",
   "execution_count": 80,
   "metadata": {},
   "outputs": [],
   "source": [
    "df['Average Monthly Charges'] = df['Average Monthly Charges'].fillna(df['Monthly Charges'])"
   ]
  },
  {
   "cell_type": "code",
   "execution_count": 81,
   "metadata": {},
   "outputs": [
    {
     "data": {
      "text/plain": [
       "count    7043.000000\n",
       "mean       64.762906\n",
       "std        30.189796\n",
       "min        13.775000\n",
       "25%        35.935156\n",
       "50%        70.337500\n",
       "75%        90.174158\n",
       "max       121.400000\n",
       "Name: Average Monthly Charges, dtype: float64"
      ]
     },
     "execution_count": 81,
     "metadata": {},
     "output_type": "execute_result"
    }
   ],
   "source": [
    "df['Average Monthly Charges'].describe()"
   ]
  },
  {
   "cell_type": "code",
   "execution_count": 82,
   "metadata": {},
   "outputs": [
    {
     "data": {
      "text/html": [
       "<div>\n",
       "<style scoped>\n",
       "    .dataframe tbody tr th:only-of-type {\n",
       "        vertical-align: middle;\n",
       "    }\n",
       "\n",
       "    .dataframe tbody tr th {\n",
       "        vertical-align: top;\n",
       "    }\n",
       "\n",
       "    .dataframe thead tr th {\n",
       "        text-align: left;\n",
       "    }\n",
       "\n",
       "    .dataframe thead tr:last-of-type th {\n",
       "        text-align: right;\n",
       "    }\n",
       "</style>\n",
       "<table border=\"1\" class=\"dataframe\">\n",
       "  <thead>\n",
       "    <tr>\n",
       "      <th></th>\n",
       "      <th colspan=\"3\" halign=\"left\">Average Monthly Charges</th>\n",
       "    </tr>\n",
       "    <tr>\n",
       "      <th></th>\n",
       "      <th>mean</th>\n",
       "      <th>min</th>\n",
       "      <th>median</th>\n",
       "    </tr>\n",
       "    <tr>\n",
       "      <th>Churn Label</th>\n",
       "      <th></th>\n",
       "      <th></th>\n",
       "      <th></th>\n",
       "    </tr>\n",
       "  </thead>\n",
       "  <tbody>\n",
       "    <tr>\n",
       "      <th>No</th>\n",
       "      <td>61.269730</td>\n",
       "      <td>13.775</td>\n",
       "      <td>63.978909</td>\n",
       "    </tr>\n",
       "    <tr>\n",
       "      <th>Yes</th>\n",
       "      <td>74.433154</td>\n",
       "      <td>14.150</td>\n",
       "      <td>79.312500</td>\n",
       "    </tr>\n",
       "  </tbody>\n",
       "</table>\n",
       "</div>"
      ],
      "text/plain": [
       "            Average Monthly Charges                   \n",
       "                               mean     min     median\n",
       "Churn Label                                           \n",
       "No                        61.269730  13.775  63.978909\n",
       "Yes                       74.433154  14.150  79.312500"
      ]
     },
     "execution_count": 82,
     "metadata": {},
     "output_type": "execute_result"
    }
   ],
   "source": [
    "df.groupby('Churn Label').agg({'Average Monthly Charges': ['mean', 'min', 'median']})"
   ]
  },
  {
   "cell_type": "markdown",
   "metadata": {},
   "source": [
    "<font color='green'>Average monthly charges was $13 higher in churn customers. Median was also higher."
   ]
  },
  {
   "cell_type": "code",
   "execution_count": 83,
   "metadata": {},
   "outputs": [
    {
     "data": {
      "text/plain": [
       "0.8261642132367971"
      ]
     },
     "execution_count": 83,
     "metadata": {},
     "output_type": "execute_result"
    }
   ],
   "source": [
    "df['Total Charges'].corr(df['Tenure Months'])"
   ]
  },
  {
   "cell_type": "code",
   "execution_count": 84,
   "metadata": {},
   "outputs": [],
   "source": [
    "df['diff'] = abs(df['Monthly Charges'] - df['Average Monthly Charges'])"
   ]
  },
  {
   "cell_type": "code",
   "execution_count": 85,
   "metadata": {},
   "outputs": [
    {
     "data": {
      "text/plain": [
       "0    0.225000\n",
       "1    5.125000\n",
       "2    2.912500\n",
       "3    3.987500\n",
       "4    0.918367\n",
       "Name: diff, dtype: float64"
      ]
     },
     "execution_count": 85,
     "metadata": {},
     "output_type": "execute_result"
    }
   ],
   "source": [
    "df['diff'].head()"
   ]
  },
  {
   "cell_type": "code",
   "execution_count": null,
   "metadata": {},
   "outputs": [],
   "source": [
    "sns.boxplot(x='diff', y='Churn Value', data=df)\n",
    "plt.show()"
   ]
  },
  {
   "cell_type": "markdown",
   "metadata": {},
   "source": [
    "<font color='green'>the difference between average monthly charges calculated and the monthly charges provided in the dataset was calculated. The above boxplot\n",
    "showed that this distribution or variation in this difference is higher in churn customers."
   ]
  },
  {
   "cell_type": "markdown",
   "metadata": {},
   "source": [
    "**Showing Churn rates in Different Cities using Tableau**<a id='Showing_Churn_rates_in_Different_Cities_using_Tableau'></a>\\\n",
    "In order to find churn rates, total number of churns was divided by the total number of customers in a city."
   ]
  },
  {
   "cell_type": "code",
   "execution_count": 20,
   "metadata": {},
   "outputs": [],
   "source": [
    "# finding total number of churns and total number of customers in a city\n",
    "df_group = df.groupby('City').agg({'Churn Value': ['sum', 'count']})"
   ]
  },
  {
   "cell_type": "code",
   "execution_count": 21,
   "metadata": {},
   "outputs": [],
   "source": [
    "# multiple levals of columns were created, so first level was dropped\n",
    "df_group.columns = df_group.columns.droplevel()"
   ]
  },
  {
   "cell_type": "code",
   "execution_count": 22,
   "metadata": {},
   "outputs": [
    {
     "data": {
      "text/plain": [
       "Index(['sum', 'count'], dtype='object')"
      ]
     },
     "execution_count": 22,
     "metadata": {},
     "output_type": "execute_result"
    }
   ],
   "source": [
    "df_group.columns"
   ]
  },
  {
   "cell_type": "code",
   "execution_count": 23,
   "metadata": {},
   "outputs": [],
   "source": [
    "#calculating churn rates\n",
    "churn_rate = (df_group['sum']/df_group['count'])*100"
   ]
  },
  {
   "cell_type": "code",
   "execution_count": 24,
   "metadata": {},
   "outputs": [],
   "source": [
    "# assigning churn rate as a column.\n",
    "df_group['churn_rate'] = churn_rate"
   ]
  },
  {
   "cell_type": "code",
   "execution_count": 25,
   "metadata": {},
   "outputs": [
    {
     "data": {
      "text/plain": [
       "count    1129.000000\n",
       "mean       26.346558\n",
       "std        21.663294\n",
       "min         0.000000\n",
       "25%         0.000000\n",
       "50%        25.000000\n",
       "75%        40.000000\n",
       "max       100.000000\n",
       "Name: churn_rate, dtype: float64"
      ]
     },
     "execution_count": 25,
     "metadata": {},
     "output_type": "execute_result"
    }
   ],
   "source": [
    "df_group['churn_rate'].describe()"
   ]
  },
  {
   "cell_type": "code",
   "execution_count": 213,
   "metadata": {},
   "outputs": [],
   "source": [
    "# saving dataframe as an excel file to do visualization in Tableau\n",
    "excelfile = df_group.to_excel('C:/Users/tnsub/Google Drive/SPRINGBOARD DSC/CustomerChurn_Project/csvfile.xlsx')"
   ]
  },
  {
   "cell_type": "markdown",
   "metadata": {},
   "source": [
    "**Link to Tableau public link**\\\n",
    "[churnrates in cities of CA](https://public.tableau.com/app/profile/b1453/viz/TelecomChurnratesinCitiesofCalifornia/Sheet1)"
   ]
  },
  {
   "cell_type": "markdown",
   "metadata": {},
   "source": [
    "**Exploring Reasons for Churning**<a id='Exploring_Reasons_for_Churning'></a>\\\n",
    "Barchart below shows the reasons for churning. 'Attitude of support' and 'competitor offered higher speed' top the list with high number of customers' churning."
   ]
  },
  {
   "cell_type": "code",
   "execution_count": 31,
   "metadata": {},
   "outputs": [
    {
     "data": {
      "text/plain": [
       "Attitude of support person                   192\n",
       "Competitor offered higher download speeds    189\n",
       "Competitor offered more data                 162\n",
       "Don't know                                   154\n",
       "Competitor made better offer                 140\n",
       "Attitude of service provider                 135\n",
       "Competitor had better devices                130\n",
       "Network reliability                          103\n",
       "Product dissatisfaction                      102\n",
       "Price too high                                98\n",
       "Service dissatisfaction                       89\n",
       "Lack of self-service on Website               88\n",
       "Extra data charges                            57\n",
       "Moved                                         53\n",
       "Lack of affordable download/upload speed      44\n",
       "Limited range of services                     44\n",
       "Long distance charges                         44\n",
       "Poor expertise of phone support               20\n",
       "Poor expertise of online support              19\n",
       "Deceased                                       6\n",
       "Name: Churn Reason, dtype: int64"
      ]
     },
     "execution_count": 31,
     "metadata": {},
     "output_type": "execute_result"
    }
   ],
   "source": [
    "df['Churn Reason'].value_counts()"
   ]
  },
  {
   "cell_type": "code",
   "execution_count": 64,
   "metadata": {},
   "outputs": [],
   "source": [
    "# Some cleaning had to be done with the categories of reasons to categorize them into broader categories\n",
    "# Combined some of the categories together and renamed them\n",
    "char_to_replace = {'Competitor offered higher download speeds': 'Better Competitor offer',\n",
    "                   'Competitor offered more data': 'Better Competitor offer',\n",
    "                   'Competitor made better offer': 'Better Competitor offer',\n",
    "                   'Competitor had better devices': 'Better Competitor offer', 'Product dissatisfaction': 'Product/Service Dissatisfaction',\n",
    "                   'Service dissatisfaction': 'Product/Service Dissatisfaction', 'Price too high': 'Price high', \n",
    "                   'Extra data charges': 'Price high', 'Long distance charges': 'Price high', \n",
    "                   'Attitude of support person': 'Support Person problem', 'Attitude of service provider':'Support Person problem',\n",
    "                  'Poor expertise of phone support':'Support Person problem','Poor expertise of online support':'Support Person problem'}\n",
    "# Iterate over all key-value pairs in dictionary\n",
    "for key, value in char_to_replace.items():\n",
    "    # Replace key character with value character in string\n",
    "    df['Churn Reason'] = df['Churn Reason'].replace(key, value)"
   ]
  },
  {
   "cell_type": "code",
   "execution_count": 91,
   "metadata": {},
   "outputs": [
    {
     "data": {
      "image/png": "[encoded data removed]",
      "text/plain": [
       "<Figure size 1296x576 with 1 Axes>"
      ]
     },
     "metadata": {},
     "output_type": "display_data"
    }
   ],
   "source": [
    "plt.figure(figsize=(18,8))\n",
    "sns.set(font_scale = 1.5, style=\"white\")\n",
    "ax = sns.countplot(y=\"Churn Reason\", data=df, order=df['Churn Reason'].value_counts().index)\n",
    "for p in ax.patches:\n",
    "    width = p.get_width()\n",
    "    plt.text(8+p.get_width(), p.get_y()+0.5*p.get_height(),\n",
    "             (width),\n",
    "             ha='center', va='center')\n",
    "plt.show()"
   ]
  },
  {
   "cell_type": "markdown",
   "metadata": {},
   "source": [
    "**CLTV (Customer Lifetime Value)<a id='Customer_Lifetime_Value'></a>**\\\n",
    "CLTV is the total value that a customer will bring to the company after deducting all the costs of servicing the customer."
   ]
  },
  {
   "cell_type": "code",
   "execution_count": 90,
   "metadata": {},
   "outputs": [
    {
     "data": {
      "image/png": "[encoded data removed]",
      "text/plain": [
       "<Figure size 432x288 with 1 Axes>"
      ]
     },
     "metadata": {},
     "output_type": "display_data"
    }
   ],
   "source": [
    "sns.set(font_scale=1,style=\"white\")\n",
    "sns.boxplot(x='CLTV', y='Churn Label', data=df)\n",
    "plt.show()"
   ]
  },
  {
   "cell_type": "code",
   "execution_count": 216,
   "metadata": {},
   "outputs": [
    {
     "data": {
      "text/html": [
       "<div>\n",
       "<style scoped>\n",
       "    .dataframe tbody tr th:only-of-type {\n",
       "        vertical-align: middle;\n",
       "    }\n",
       "\n",
       "    .dataframe tbody tr th {\n",
       "        vertical-align: top;\n",
       "    }\n",
       "\n",
       "    .dataframe thead tr th {\n",
       "        text-align: left;\n",
       "    }\n",
       "\n",
       "    .dataframe thead tr:last-of-type th {\n",
       "        text-align: right;\n",
       "    }\n",
       "</style>\n",
       "<table border=\"1\" class=\"dataframe\">\n",
       "  <thead>\n",
       "    <tr>\n",
       "      <th></th>\n",
       "      <th colspan=\"3\" halign=\"left\">CLTV</th>\n",
       "    </tr>\n",
       "    <tr>\n",
       "      <th></th>\n",
       "      <th>mean</th>\n",
       "      <th>min</th>\n",
       "      <th>median</th>\n",
       "    </tr>\n",
       "    <tr>\n",
       "      <th>Churn Label</th>\n",
       "      <th></th>\n",
       "      <th></th>\n",
       "      <th></th>\n",
       "    </tr>\n",
       "  </thead>\n",
       "  <tbody>\n",
       "    <tr>\n",
       "      <th>No</th>\n",
       "      <td>4490.921337</td>\n",
       "      <td>2003</td>\n",
       "      <td>4620</td>\n",
       "    </tr>\n",
       "    <tr>\n",
       "      <th>Yes</th>\n",
       "      <td>4149.414660</td>\n",
       "      <td>2003</td>\n",
       "      <td>4238</td>\n",
       "    </tr>\n",
       "  </tbody>\n",
       "</table>\n",
       "</div>"
      ],
      "text/plain": [
       "                    CLTV             \n",
       "                    mean   min median\n",
       "Churn Label                          \n",
       "No           4490.921337  2003   4620\n",
       "Yes          4149.414660  2003   4238"
      ]
     },
     "execution_count": 216,
     "metadata": {},
     "output_type": "execute_result"
    }
   ],
   "source": [
    "df.groupby('Churn Label').agg({'CLTV': ['mean', 'min', 'median']})"
   ]
  },
  {
   "cell_type": "markdown",
   "metadata": {},
   "source": [
    "<font color='green'>There's around $340 difference in mean of customer lifetime value between the churn and not churn customers."
   ]
  },
  {
   "cell_type": "code",
   "execution_count": 218,
   "metadata": {},
   "outputs": [],
   "source": [
    "# Saving dataframe for preprocessing\n",
    "cc_1 = df.to_csv(r'C:\\Users\\tnsub\\Google Drive\\SPRINGBOARD DSC\\CustomerChurn_Project\\cc_1.csv')"
   ]
  }
 ],
 "metadata": {
  "kernelspec": {
   "display_name": "Python 3",
   "language": "python",
   "name": "python3"
  },
  "language_info": {
   "codemirror_mode": {
    "name": "ipython",
    "version": 3
   },
   "file_extension": ".py",
   "mimetype": "text/x-python",
   "name": "python",
   "nbconvert_exporter": "python",
   "pygments_lexer": "ipython3",
   "version": "3.8.5"
  }
 },
 "nbformat": 4,
 "nbformat_minor": 4
}
