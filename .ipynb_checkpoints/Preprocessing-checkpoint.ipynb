{
 "cells": [
  {
   "cell_type": "code",
   "execution_count": 2,
   "metadata": {},
   "outputs": [],
   "source": [
    "import pandas as pd\n",
    "import numpy as np\n",
    "import seaborn as sns\n",
    "import matplotlib.pyplot as plt"
   ]
  },
  {
   "cell_type": "code",
   "execution_count": 3,
   "metadata": {},
   "outputs": [],
   "source": [
    "# Getting data from exploratory analysis \n",
    "df2 = pd.read_csv(r'C:\\Users\\tnsub\\Google Drive\\SPRINGBOARD DSC\\Customer_Churn_Project\\Data\\cc_1.csv')"
   ]
  },
  {
   "cell_type": "code",
   "execution_count": 4,
   "metadata": {},
   "outputs": [
    {
     "name": "stdout",
     "output_type": "stream",
     "text": [
      "<class 'pandas.core.frame.DataFrame'>\n",
      "RangeIndex: 7043 entries, 0 to 7042\n",
      "Data columns (total 31 columns):\n",
      " #   Column                   Non-Null Count  Dtype  \n",
      "---  ------                   --------------  -----  \n",
      " 0   Unnamed: 0               7043 non-null   int64  \n",
      " 1   CustomerID               7043 non-null   object \n",
      " 2   City                     7043 non-null   object \n",
      " 3   Zip Code                 7043 non-null   int64  \n",
      " 4   Latitude                 7043 non-null   float64\n",
      " 5   Longitude                7043 non-null   float64\n",
      " 6   Gender                   7043 non-null   object \n",
      " 7   Senior Citizen           7043 non-null   object \n",
      " 8   Partner                  7043 non-null   object \n",
      " 9   Dependents               7043 non-null   object \n",
      " 10  Tenure Months            7043 non-null   int64  \n",
      " 11  Phone Service            7043 non-null   object \n",
      " 12  Multiple Lines           7043 non-null   object \n",
      " 13  Internet Service         7043 non-null   object \n",
      " 14  Online Security          7043 non-null   object \n",
      " 15  Online Backup            7043 non-null   object \n",
      " 16  Device Protection        7043 non-null   object \n",
      " 17  Tech Support             7043 non-null   object \n",
      " 18  Streaming TV             7043 non-null   object \n",
      " 19  Streaming Movies         7043 non-null   object \n",
      " 20  Contract                 7043 non-null   object \n",
      " 21  Paperless Billing        7043 non-null   object \n",
      " 22  Payment Method           7043 non-null   object \n",
      " 23  Monthly Charges          7043 non-null   float64\n",
      " 24  Total Charges            7043 non-null   float64\n",
      " 25  Churn Label              7043 non-null   object \n",
      " 26  Churn Value              7043 non-null   int64  \n",
      " 27  Churn Score              7043 non-null   int64  \n",
      " 28  CLTV                     7043 non-null   int64  \n",
      " 29  Churn Reason             1869 non-null   object \n",
      " 30  Average Monthly Charges  7043 non-null   float64\n",
      "dtypes: float64(5), int64(6), object(20)\n",
      "memory usage: 1.7+ MB\n"
     ]
    }
   ],
   "source": [
    "df2.info()"
   ]
  },
  {
   "cell_type": "markdown",
   "metadata": {},
   "source": [
    "**Creating a feature to account for City differences**\\\n",
    "In order to account for the differences in churning due to city variable, I calculated the churn rates in each city (around 1000 of them) and assign those values to rows with the corresponding city. This feature can be used as a proxy to account for differences in city."
   ]
  },
  {
   "cell_type": "code",
   "execution_count": 58,
   "metadata": {},
   "outputs": [],
   "source": [
    "a = df2.groupby('City').agg({'Churn Value': ['sum', 'count']})\n",
    "a.columns = a.columns.droplevel()"
   ]
  },
  {
   "cell_type": "code",
   "execution_count": 59,
   "metadata": {},
   "outputs": [],
   "source": [
    "churn_rate = (a['sum']/a['count'])*100"
   ]
  },
  {
   "cell_type": "code",
   "execution_count": 60,
   "metadata": {},
   "outputs": [],
   "source": [
    "a['City_churn_rate'] = churn_rate"
   ]
  },
  {
   "cell_type": "code",
   "execution_count": 61,
   "metadata": {},
   "outputs": [],
   "source": [
    "b = a.sort_values(by='count', ascending=False)"
   ]
  },
  {
   "cell_type": "code",
   "execution_count": 62,
   "metadata": {},
   "outputs": [],
   "source": [
    "b = b.reset_index()"
   ]
  },
  {
   "cell_type": "code",
   "execution_count": 63,
   "metadata": {},
   "outputs": [
    {
     "data": {
      "text/html": [
       "<div>\n",
       "<style scoped>\n",
       "    .dataframe tbody tr th:only-of-type {\n",
       "        vertical-align: middle;\n",
       "    }\n",
       "\n",
       "    .dataframe tbody tr th {\n",
       "        vertical-align: top;\n",
       "    }\n",
       "\n",
       "    .dataframe thead th {\n",
       "        text-align: right;\n",
       "    }\n",
       "</style>\n",
       "<table border=\"1\" class=\"dataframe\">\n",
       "  <thead>\n",
       "    <tr style=\"text-align: right;\">\n",
       "      <th></th>\n",
       "      <th>City</th>\n",
       "      <th>sum</th>\n",
       "      <th>count</th>\n",
       "      <th>City_churn_rate</th>\n",
       "    </tr>\n",
       "  </thead>\n",
       "  <tbody>\n",
       "    <tr>\n",
       "      <th>0</th>\n",
       "      <td>Los Angeles</td>\n",
       "      <td>90</td>\n",
       "      <td>305</td>\n",
       "      <td>29.508197</td>\n",
       "    </tr>\n",
       "    <tr>\n",
       "      <th>1</th>\n",
       "      <td>San Diego</td>\n",
       "      <td>50</td>\n",
       "      <td>150</td>\n",
       "      <td>33.333333</td>\n",
       "    </tr>\n",
       "    <tr>\n",
       "      <th>2</th>\n",
       "      <td>San Jose</td>\n",
       "      <td>29</td>\n",
       "      <td>112</td>\n",
       "      <td>25.892857</td>\n",
       "    </tr>\n",
       "    <tr>\n",
       "      <th>3</th>\n",
       "      <td>Sacramento</td>\n",
       "      <td>26</td>\n",
       "      <td>108</td>\n",
       "      <td>24.074074</td>\n",
       "    </tr>\n",
       "    <tr>\n",
       "      <th>4</th>\n",
       "      <td>San Francisco</td>\n",
       "      <td>31</td>\n",
       "      <td>104</td>\n",
       "      <td>29.807692</td>\n",
       "    </tr>\n",
       "  </tbody>\n",
       "</table>\n",
       "</div>"
      ],
      "text/plain": [
       "            City  sum  count  City_churn_rate\n",
       "0    Los Angeles   90    305        29.508197\n",
       "1      San Diego   50    150        33.333333\n",
       "2       San Jose   29    112        25.892857\n",
       "3     Sacramento   26    108        24.074074\n",
       "4  San Francisco   31    104        29.807692"
      ]
     },
     "execution_count": 63,
     "metadata": {},
     "output_type": "execute_result"
    }
   ],
   "source": [
    "b.head()"
   ]
  },
  {
   "cell_type": "code",
   "execution_count": 64,
   "metadata": {},
   "outputs": [],
   "source": [
    "#using a left join we can broadcast the churn rates in each city to the main data frame\n",
    "df3 = df2.merge(b, on='City', how='left')"
   ]
  },
  {
   "cell_type": "code",
   "execution_count": 65,
   "metadata": {},
   "outputs": [
    {
     "data": {
      "text/html": [
       "<div>\n",
       "<style scoped>\n",
       "    .dataframe tbody tr th:only-of-type {\n",
       "        vertical-align: middle;\n",
       "    }\n",
       "\n",
       "    .dataframe tbody tr th {\n",
       "        vertical-align: top;\n",
       "    }\n",
       "\n",
       "    .dataframe thead th {\n",
       "        text-align: right;\n",
       "    }\n",
       "</style>\n",
       "<table border=\"1\" class=\"dataframe\">\n",
       "  <thead>\n",
       "    <tr style=\"text-align: right;\">\n",
       "      <th></th>\n",
       "      <th>Unnamed: 0</th>\n",
       "      <th>CustomerID</th>\n",
       "      <th>City</th>\n",
       "      <th>Zip Code</th>\n",
       "      <th>Latitude</th>\n",
       "      <th>Longitude</th>\n",
       "      <th>Gender</th>\n",
       "      <th>Senior Citizen</th>\n",
       "      <th>Partner</th>\n",
       "      <th>Dependents</th>\n",
       "      <th>...</th>\n",
       "      <th>Total Charges</th>\n",
       "      <th>Churn Label</th>\n",
       "      <th>Churn Value</th>\n",
       "      <th>Churn Score</th>\n",
       "      <th>CLTV</th>\n",
       "      <th>Churn Reason</th>\n",
       "      <th>Average Monthly Charges</th>\n",
       "      <th>sum</th>\n",
       "      <th>count</th>\n",
       "      <th>City_churn_rate</th>\n",
       "    </tr>\n",
       "  </thead>\n",
       "  <tbody>\n",
       "    <tr>\n",
       "      <th>0</th>\n",
       "      <td>0</td>\n",
       "      <td>3668-QPYBK</td>\n",
       "      <td>Los Angeles</td>\n",
       "      <td>90003</td>\n",
       "      <td>33.964131</td>\n",
       "      <td>-118.272783</td>\n",
       "      <td>Male</td>\n",
       "      <td>No</td>\n",
       "      <td>No</td>\n",
       "      <td>No</td>\n",
       "      <td>...</td>\n",
       "      <td>108.15</td>\n",
       "      <td>Yes</td>\n",
       "      <td>1</td>\n",
       "      <td>86</td>\n",
       "      <td>3239</td>\n",
       "      <td>Competitor made better offer</td>\n",
       "      <td>54.075000</td>\n",
       "      <td>90</td>\n",
       "      <td>305</td>\n",
       "      <td>29.508197</td>\n",
       "    </tr>\n",
       "    <tr>\n",
       "      <th>1</th>\n",
       "      <td>1</td>\n",
       "      <td>9237-HQITU</td>\n",
       "      <td>Los Angeles</td>\n",
       "      <td>90005</td>\n",
       "      <td>34.059281</td>\n",
       "      <td>-118.307420</td>\n",
       "      <td>Female</td>\n",
       "      <td>No</td>\n",
       "      <td>No</td>\n",
       "      <td>Yes</td>\n",
       "      <td>...</td>\n",
       "      <td>151.65</td>\n",
       "      <td>Yes</td>\n",
       "      <td>1</td>\n",
       "      <td>67</td>\n",
       "      <td>2701</td>\n",
       "      <td>Moved</td>\n",
       "      <td>75.825000</td>\n",
       "      <td>90</td>\n",
       "      <td>305</td>\n",
       "      <td>29.508197</td>\n",
       "    </tr>\n",
       "    <tr>\n",
       "      <th>2</th>\n",
       "      <td>2</td>\n",
       "      <td>9305-CDSKC</td>\n",
       "      <td>Los Angeles</td>\n",
       "      <td>90006</td>\n",
       "      <td>34.048013</td>\n",
       "      <td>-118.293953</td>\n",
       "      <td>Female</td>\n",
       "      <td>No</td>\n",
       "      <td>No</td>\n",
       "      <td>Yes</td>\n",
       "      <td>...</td>\n",
       "      <td>820.50</td>\n",
       "      <td>Yes</td>\n",
       "      <td>1</td>\n",
       "      <td>86</td>\n",
       "      <td>5372</td>\n",
       "      <td>Moved</td>\n",
       "      <td>102.562500</td>\n",
       "      <td>90</td>\n",
       "      <td>305</td>\n",
       "      <td>29.508197</td>\n",
       "    </tr>\n",
       "    <tr>\n",
       "      <th>3</th>\n",
       "      <td>3</td>\n",
       "      <td>7892-POOKP</td>\n",
       "      <td>Los Angeles</td>\n",
       "      <td>90010</td>\n",
       "      <td>34.062125</td>\n",
       "      <td>-118.315709</td>\n",
       "      <td>Female</td>\n",
       "      <td>No</td>\n",
       "      <td>Yes</td>\n",
       "      <td>Yes</td>\n",
       "      <td>...</td>\n",
       "      <td>3046.05</td>\n",
       "      <td>Yes</td>\n",
       "      <td>1</td>\n",
       "      <td>84</td>\n",
       "      <td>5003</td>\n",
       "      <td>Moved</td>\n",
       "      <td>108.787500</td>\n",
       "      <td>90</td>\n",
       "      <td>305</td>\n",
       "      <td>29.508197</td>\n",
       "    </tr>\n",
       "    <tr>\n",
       "      <th>4</th>\n",
       "      <td>4</td>\n",
       "      <td>0280-XJGEX</td>\n",
       "      <td>Los Angeles</td>\n",
       "      <td>90015</td>\n",
       "      <td>34.039224</td>\n",
       "      <td>-118.266293</td>\n",
       "      <td>Male</td>\n",
       "      <td>No</td>\n",
       "      <td>No</td>\n",
       "      <td>Yes</td>\n",
       "      <td>...</td>\n",
       "      <td>5036.30</td>\n",
       "      <td>Yes</td>\n",
       "      <td>1</td>\n",
       "      <td>89</td>\n",
       "      <td>5340</td>\n",
       "      <td>Competitor had better devices</td>\n",
       "      <td>102.781633</td>\n",
       "      <td>90</td>\n",
       "      <td>305</td>\n",
       "      <td>29.508197</td>\n",
       "    </tr>\n",
       "  </tbody>\n",
       "</table>\n",
       "<p>5 rows × 34 columns</p>\n",
       "</div>"
      ],
      "text/plain": [
       "   Unnamed: 0  CustomerID         City  Zip Code   Latitude   Longitude  \\\n",
       "0           0  3668-QPYBK  Los Angeles     90003  33.964131 -118.272783   \n",
       "1           1  9237-HQITU  Los Angeles     90005  34.059281 -118.307420   \n",
       "2           2  9305-CDSKC  Los Angeles     90006  34.048013 -118.293953   \n",
       "3           3  7892-POOKP  Los Angeles     90010  34.062125 -118.315709   \n",
       "4           4  0280-XJGEX  Los Angeles     90015  34.039224 -118.266293   \n",
       "\n",
       "   Gender Senior Citizen Partner Dependents  ...  Total Charges Churn Label  \\\n",
       "0    Male             No      No         No  ...         108.15         Yes   \n",
       "1  Female             No      No        Yes  ...         151.65         Yes   \n",
       "2  Female             No      No        Yes  ...         820.50         Yes   \n",
       "3  Female             No     Yes        Yes  ...        3046.05         Yes   \n",
       "4    Male             No      No        Yes  ...        5036.30         Yes   \n",
       "\n",
       "  Churn Value Churn Score  CLTV                   Churn Reason  \\\n",
       "0           1          86  3239   Competitor made better offer   \n",
       "1           1          67  2701                          Moved   \n",
       "2           1          86  5372                          Moved   \n",
       "3           1          84  5003                          Moved   \n",
       "4           1          89  5340  Competitor had better devices   \n",
       "\n",
       "  Average Monthly Charges sum count City_churn_rate  \n",
       "0               54.075000  90   305       29.508197  \n",
       "1               75.825000  90   305       29.508197  \n",
       "2              102.562500  90   305       29.508197  \n",
       "3              108.787500  90   305       29.508197  \n",
       "4              102.781633  90   305       29.508197  \n",
       "\n",
       "[5 rows x 34 columns]"
      ]
     },
     "execution_count": 65,
     "metadata": {},
     "output_type": "execute_result"
    }
   ],
   "source": [
    "df3.head()"
   ]
  },
  {
   "cell_type": "code",
   "execution_count": 66,
   "metadata": {},
   "outputs": [],
   "source": [
    "#dropping unnecessary columns\n",
    "# Gender didn't have an impact on Churning, so we don't have to use it for further analysis\n",
    "df4 = df3.drop(columns=['Churn Reason','Unnamed: 0', 'Gender', 'City', 'Zip Code', 'Latitude', 'Longitude', 'Monthly Charges', 'Total Charges',\n",
    "                       'Churn Label', 'Churn Score', 'Churn Reason', 'sum', 'count'])"
   ]
  },
  {
   "cell_type": "code",
   "execution_count": 67,
   "metadata": {},
   "outputs": [
    {
     "name": "stdout",
     "output_type": "stream",
     "text": [
      "<class 'pandas.core.frame.DataFrame'>\n",
      "Int64Index: 7043 entries, 0 to 7042\n",
      "Data columns (total 21 columns):\n",
      " #   Column                   Non-Null Count  Dtype  \n",
      "---  ------                   --------------  -----  \n",
      " 0   CustomerID               7043 non-null   object \n",
      " 1   Senior Citizen           7043 non-null   object \n",
      " 2   Partner                  7043 non-null   object \n",
      " 3   Dependents               7043 non-null   object \n",
      " 4   Tenure Months            7043 non-null   int64  \n",
      " 5   Phone Service            7043 non-null   object \n",
      " 6   Multiple Lines           7043 non-null   object \n",
      " 7   Internet Service         7043 non-null   object \n",
      " 8   Online Security          7043 non-null   object \n",
      " 9   Online Backup            7043 non-null   object \n",
      " 10  Device Protection        7043 non-null   object \n",
      " 11  Tech Support             7043 non-null   object \n",
      " 12  Streaming TV             7043 non-null   object \n",
      " 13  Streaming Movies         7043 non-null   object \n",
      " 14  Contract                 7043 non-null   object \n",
      " 15  Paperless Billing        7043 non-null   object \n",
      " 16  Payment Method           7043 non-null   object \n",
      " 17  Churn Value              7043 non-null   int64  \n",
      " 18  CLTV                     7043 non-null   int64  \n",
      " 19  Average Monthly Charges  7043 non-null   float64\n",
      " 20  City_churn_rate          7043 non-null   float64\n",
      "dtypes: float64(2), int64(3), object(16)\n",
      "memory usage: 1.2+ MB\n"
     ]
    }
   ],
   "source": [
    "df4.info()"
   ]
  },
  {
   "cell_type": "markdown",
   "metadata": {},
   "source": [
    "**Creating Dummy Variables for Categorical Features**"
   ]
  },
  {
   "cell_type": "code",
   "execution_count": 69,
   "metadata": {},
   "outputs": [],
   "source": [
    "df5 = pd.get_dummies(df4, columns=['Senior Citizen','Partner', 'Dependents', 'Phone Service', 'Multiple Lines', 'Internet Service',\n",
    "                                  'Online Security', 'Online Backup', 'Device Protection', 'Tech Support', 'Streaming TV', 'Streaming Movies', 'Contract',\n",
    "                                  'Paperless Billing', 'Payment Method'])"
   ]
  },
  {
   "cell_type": "code",
   "execution_count": 70,
   "metadata": {},
   "outputs": [
    {
     "name": "stdout",
     "output_type": "stream",
     "text": [
      "<class 'pandas.core.frame.DataFrame'>\n",
      "Int64Index: 7043 entries, 0 to 7042\n",
      "Data columns (total 47 columns):\n",
      " #   Column                                    Non-Null Count  Dtype  \n",
      "---  ------                                    --------------  -----  \n",
      " 0   CustomerID                                7043 non-null   object \n",
      " 1   Tenure Months                             7043 non-null   int64  \n",
      " 2   Churn Value                               7043 non-null   int64  \n",
      " 3   CLTV                                      7043 non-null   int64  \n",
      " 4   Average Monthly Charges                   7043 non-null   float64\n",
      " 5   City_churn_rate                           7043 non-null   float64\n",
      " 6   Senior Citizen_No                         7043 non-null   uint8  \n",
      " 7   Senior Citizen_Yes                        7043 non-null   uint8  \n",
      " 8   Partner_No                                7043 non-null   uint8  \n",
      " 9   Partner_Yes                               7043 non-null   uint8  \n",
      " 10  Dependents_No                             7043 non-null   uint8  \n",
      " 11  Dependents_Yes                            7043 non-null   uint8  \n",
      " 12  Phone Service_No                          7043 non-null   uint8  \n",
      " 13  Phone Service_Yes                         7043 non-null   uint8  \n",
      " 14  Multiple Lines_No                         7043 non-null   uint8  \n",
      " 15  Multiple Lines_No phone service           7043 non-null   uint8  \n",
      " 16  Multiple Lines_Yes                        7043 non-null   uint8  \n",
      " 17  Internet Service_DSL                      7043 non-null   uint8  \n",
      " 18  Internet Service_Fiber optic              7043 non-null   uint8  \n",
      " 19  Internet Service_No                       7043 non-null   uint8  \n",
      " 20  Online Security_No                        7043 non-null   uint8  \n",
      " 21  Online Security_No internet service       7043 non-null   uint8  \n",
      " 22  Online Security_Yes                       7043 non-null   uint8  \n",
      " 23  Online Backup_No                          7043 non-null   uint8  \n",
      " 24  Online Backup_No internet service         7043 non-null   uint8  \n",
      " 25  Online Backup_Yes                         7043 non-null   uint8  \n",
      " 26  Device Protection_No                      7043 non-null   uint8  \n",
      " 27  Device Protection_No internet service     7043 non-null   uint8  \n",
      " 28  Device Protection_Yes                     7043 non-null   uint8  \n",
      " 29  Tech Support_No                           7043 non-null   uint8  \n",
      " 30  Tech Support_No internet service          7043 non-null   uint8  \n",
      " 31  Tech Support_Yes                          7043 non-null   uint8  \n",
      " 32  Streaming TV_No                           7043 non-null   uint8  \n",
      " 33  Streaming TV_No internet service          7043 non-null   uint8  \n",
      " 34  Streaming TV_Yes                          7043 non-null   uint8  \n",
      " 35  Streaming Movies_No                       7043 non-null   uint8  \n",
      " 36  Streaming Movies_No internet service      7043 non-null   uint8  \n",
      " 37  Streaming Movies_Yes                      7043 non-null   uint8  \n",
      " 38  Contract_Month-to-month                   7043 non-null   uint8  \n",
      " 39  Contract_One year                         7043 non-null   uint8  \n",
      " 40  Contract_Two year                         7043 non-null   uint8  \n",
      " 41  Paperless Billing_No                      7043 non-null   uint8  \n",
      " 42  Paperless Billing_Yes                     7043 non-null   uint8  \n",
      " 43  Payment Method_Bank transfer (automatic)  7043 non-null   uint8  \n",
      " 44  Payment Method_Credit card (automatic)    7043 non-null   uint8  \n",
      " 45  Payment Method_Electronic check           7043 non-null   uint8  \n",
      " 46  Payment Method_Mailed check               7043 non-null   uint8  \n",
      "dtypes: float64(2), int64(3), object(1), uint8(41)\n",
      "memory usage: 667.2+ KB\n"
     ]
    }
   ],
   "source": [
    "df5.info()"
   ]
  },
  {
   "cell_type": "markdown",
   "metadata": {},
   "source": [
    "**Total number of services Customers have**"
   ]
  },
  {
   "cell_type": "markdown",
   "metadata": {},
   "source": [
    "In addition to above features, I also calculated a feature to account for number of services a customer has; max number of services will be 5, accounting for Phone (single/more), internet, streaming TV, and streaming movies "
   ]
  },
  {
   "cell_type": "code",
   "execution_count": 75,
   "metadata": {},
   "outputs": [],
   "source": [
    "df5['#ofServices'] = df5['Phone Service_Yes'] + df5['Multiple Lines_Yes'] + df5['Internet Service_DSL'] + df5['Internet Service_Fiber optic'] + df5['Streaming TV_Yes'] + df5['Streaming Movies_Yes']"
   ]
  },
  {
   "cell_type": "code",
   "execution_count": 76,
   "metadata": {},
   "outputs": [
    {
     "data": {
      "text/plain": [
       "2    1574\n",
       "3    1496\n",
       "1    1483\n",
       "4    1281\n",
       "5    1209\n",
       "Name: #ofServices, dtype: int64"
      ]
     },
     "execution_count": 76,
     "metadata": {},
     "output_type": "execute_result"
    }
   ],
   "source": [
    "df5['#ofServices'].value_counts()"
   ]
  },
  {
   "cell_type": "code",
   "execution_count": 78,
   "metadata": {},
   "outputs": [],
   "source": [
    "#Dropping unnecessary columns\n",
    "df6 = df5.drop(['Senior Citizen_No', 'Partner_No', 'Dependents_No', 'Phone Service_No', 'Multiple Lines_No', 'Multiple Lines_No phone service', 'Internet Service_No', 'Online Security_No','Online Security_No internet service', \n",
    "                'Online Backup_No','Online Backup_No internet service', 'Device Protection_No','Device Protection_No internet service', 'Tech Support_No', 'Streaming TV_No','Streaming TV_No internet service','Tech Support_No internet service',\n",
    "                'Streaming Movies_No', 'Streaming Movies_No internet service','Contract_Two year',\n",
    "                'Paperless Billing_No', 'Payment Method_Mailed check'], axis=1)"
   ]
  },
  {
   "cell_type": "code",
   "execution_count": 79,
   "metadata": {},
   "outputs": [
    {
     "name": "stdout",
     "output_type": "stream",
     "text": [
      "<class 'pandas.core.frame.DataFrame'>\n",
      "Int64Index: 7043 entries, 0 to 7042\n",
      "Data columns (total 26 columns):\n",
      " #   Column                                    Non-Null Count  Dtype  \n",
      "---  ------                                    --------------  -----  \n",
      " 0   CustomerID                                7043 non-null   object \n",
      " 1   Tenure Months                             7043 non-null   int64  \n",
      " 2   Churn Value                               7043 non-null   int64  \n",
      " 3   CLTV                                      7043 non-null   int64  \n",
      " 4   Average Monthly Charges                   7043 non-null   float64\n",
      " 5   City_churn_rate                           7043 non-null   float64\n",
      " 6   Senior Citizen_Yes                        7043 non-null   uint8  \n",
      " 7   Partner_Yes                               7043 non-null   uint8  \n",
      " 8   Dependents_Yes                            7043 non-null   uint8  \n",
      " 9   Phone Service_Yes                         7043 non-null   uint8  \n",
      " 10  Multiple Lines_Yes                        7043 non-null   uint8  \n",
      " 11  Internet Service_DSL                      7043 non-null   uint8  \n",
      " 12  Internet Service_Fiber optic              7043 non-null   uint8  \n",
      " 13  Online Security_Yes                       7043 non-null   uint8  \n",
      " 14  Online Backup_Yes                         7043 non-null   uint8  \n",
      " 15  Device Protection_Yes                     7043 non-null   uint8  \n",
      " 16  Tech Support_Yes                          7043 non-null   uint8  \n",
      " 17  Streaming TV_Yes                          7043 non-null   uint8  \n",
      " 18  Streaming Movies_Yes                      7043 non-null   uint8  \n",
      " 19  Contract_Month-to-month                   7043 non-null   uint8  \n",
      " 20  Contract_One year                         7043 non-null   uint8  \n",
      " 21  Paperless Billing_Yes                     7043 non-null   uint8  \n",
      " 22  Payment Method_Bank transfer (automatic)  7043 non-null   uint8  \n",
      " 23  Payment Method_Credit card (automatic)    7043 non-null   uint8  \n",
      " 24  Payment Method_Electronic check           7043 non-null   uint8  \n",
      " 25  #ofServices                               7043 non-null   uint8  \n",
      "dtypes: float64(2), int64(3), object(1), uint8(20)\n",
      "memory usage: 522.7+ KB\n"
     ]
    }
   ],
   "source": [
    "df6.info()"
   ]
  },
  {
   "cell_type": "code",
   "execution_count": 86,
   "metadata": {},
   "outputs": [],
   "source": [
    "#Changing columns into numeric\n",
    "\n",
    "df6[['Senior Citizen_Yes', 'Partner_Yes', 'Dependents_Yes','Phone Service_Yes','Multiple Lines_Yes',\n",
    "        'Internet Service_DSL','Internet Service_Fiber optic', 'Online Security_Yes','Online Security_Yes',\n",
    "        'Online Backup_Yes','Device Protection_Yes','Tech Support_Yes','Streaming TV_Yes','Streaming Movies_Yes',\n",
    "        'Contract_Month-to-month','Contract_One year','Paperless Billing_Yes','Payment Method_Bank transfer (automatic)',\n",
    "        'Payment Method_Credit card (automatic)','Payment Method_Electronic check','#ofServices']] = df6[['Senior Citizen_Yes', 'Partner_Yes', 'Dependents_Yes','Phone Service_Yes','Multiple Lines_Yes',\n",
    "        'Internet Service_DSL','Internet Service_Fiber optic', 'Online Security_Yes','Online Security_Yes',\n",
    "        'Online Backup_Yes','Device Protection_Yes','Tech Support_Yes','Streaming TV_Yes','Streaming Movies_Yes',\n",
    "        'Contract_Month-to-month','Contract_One year','Paperless Billing_Yes','Payment Method_Bank transfer (automatic)',\n",
    "        'Payment Method_Credit card (automatic)','Payment Method_Electronic check','#ofServices']].astype('int')\n"
   ]
  },
  {
   "cell_type": "code",
   "execution_count": 87,
   "metadata": {},
   "outputs": [
    {
     "name": "stdout",
     "output_type": "stream",
     "text": [
      "<class 'pandas.core.frame.DataFrame'>\n",
      "Int64Index: 7043 entries, 0 to 7042\n",
      "Data columns (total 26 columns):\n",
      " #   Column                                    Non-Null Count  Dtype  \n",
      "---  ------                                    --------------  -----  \n",
      " 0   CustomerID                                7043 non-null   object \n",
      " 1   Tenure Months                             7043 non-null   int64  \n",
      " 2   Churn Value                               7043 non-null   int64  \n",
      " 3   CLTV                                      7043 non-null   int64  \n",
      " 4   Average Monthly Charges                   7043 non-null   float64\n",
      " 5   City_churn_rate                           7043 non-null   float64\n",
      " 6   Senior Citizen_Yes                        7043 non-null   int32  \n",
      " 7   Partner_Yes                               7043 non-null   int32  \n",
      " 8   Dependents_Yes                            7043 non-null   int32  \n",
      " 9   Phone Service_Yes                         7043 non-null   int32  \n",
      " 10  Multiple Lines_Yes                        7043 non-null   int32  \n",
      " 11  Internet Service_DSL                      7043 non-null   int32  \n",
      " 12  Internet Service_Fiber optic              7043 non-null   int32  \n",
      " 13  Online Security_Yes                       7043 non-null   int32  \n",
      " 14  Online Backup_Yes                         7043 non-null   int32  \n",
      " 15  Device Protection_Yes                     7043 non-null   int32  \n",
      " 16  Tech Support_Yes                          7043 non-null   int32  \n",
      " 17  Streaming TV_Yes                          7043 non-null   int32  \n",
      " 18  Streaming Movies_Yes                      7043 non-null   int32  \n",
      " 19  Contract_Month-to-month                   7043 non-null   int32  \n",
      " 20  Contract_One year                         7043 non-null   int32  \n",
      " 21  Paperless Billing_Yes                     7043 non-null   int32  \n",
      " 22  Payment Method_Bank transfer (automatic)  7043 non-null   int32  \n",
      " 23  Payment Method_Credit card (automatic)    7043 non-null   int32  \n",
      " 24  Payment Method_Electronic check           7043 non-null   int32  \n",
      " 25  #ofServices                               7043 non-null   int32  \n",
      "dtypes: float64(2), int32(20), int64(3), object(1)\n",
      "memory usage: 935.4+ KB\n"
     ]
    }
   ],
   "source": [
    "df6.info()"
   ]
  },
  {
   "cell_type": "code",
   "execution_count": 89,
   "metadata": {},
   "outputs": [],
   "source": [
    "#Saving file for Modeling\n",
    "cc_2 = df6.to_csv(r'C:\\Users\\tnsub\\Google Drive\\SPRINGBOARD DSC\\Customer_Churn_Project\\Data\\cc_2.csv')"
   ]
  },
  {
   "cell_type": "code",
   "execution_count": null,
   "metadata": {},
   "outputs": [],
   "source": []
  }
 ],
 "metadata": {
  "kernelspec": {
   "display_name": "Python 3",
   "language": "python",
   "name": "python3"
  },
  "language_info": {
   "codemirror_mode": {
    "name": "ipython",
    "version": 3
   },
   "file_extension": ".py",
   "mimetype": "text/x-python",
   "name": "python",
   "nbconvert_exporter": "python",
   "pygments_lexer": "ipython3",
   "version": "3.8.5"
  }
 },
 "nbformat": 4,
 "nbformat_minor": 4
}
