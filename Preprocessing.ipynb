{
 "cells": [
  {
   "cell_type": "code",
   "execution_count": 1,
   "metadata": {},
   "outputs": [],
   "source": [
    "df_dc = pd.get_dummies(df, columns=['Partner', 'Dependents'])"
   ]
  },
  {
   "cell_type": "code",
   "execution_count": null,
   "metadata": {},
   "outputs": [],
   "source": [
    "In addition to above features, I also calculated a feature to account for number of services a customer has; max number of services will be 5, accounting for Phone (single/more), internet, streaming TV, and streaming movies "
   ]
  },
  {
   "cell_type": "code",
   "execution_count": null,
   "metadata": {},
   "outputs": [],
   "source": [
    "df1['#ofServices'] = df1['Phone_Yes'] + df1['MultLin_Yes'] + df1['Internet_DSL'] + df1['Internet_Fiber optic'] + df1['TV_Yes'] + df1['Movie_Yes']"
   ]
  },
  {
   "cell_type": "code",
   "execution_count": null,
   "metadata": {},
   "outputs": [],
   "source": [
    "df1['#ofServices'].value_counts()"
   ]
  },
  {
   "cell_type": "code",
   "execution_count": null,
   "metadata": {},
   "outputs": [],
   "source": [
    "#Dropping unnecessary columns\n",
    "df2 = df1.drop(['Senior Citizen', 'Partner', 'Dependents', 'Phone Service', 'Multiple Lines', 'Internet Service', 'Online Security', 'Online Backup', 'Device Protection', 'Tech Support', 'Streaming TV', 'Streaming Movies',\n",
    "               'Contract', 'Paperless Billing', 'Payment Method', 'Monthly Charges', 'Total Charges', 'diff', 'Senior_No', 'Partner_No', 'Dependent_No', 'Phone_No', 'MultLin_No','MultLin_No phone service', 'Internet_No', \n",
    "                'Contract_Two year', 'OnlineSecurity_No', 'OnlineSecurity_No internet service', 'DeviceProtect_No', 'DeviceProtect_No internet service', 'TechSupport_No', 'TechSupport_No internet service', 'TV_No',\n",
    "                'TV_No internet service', 'Movie_No', 'Movie_No internet service', 'PaperlessBill_No', 'PayMethod_Mailed check'], axis=1)"
   ]
  },
  {
   "cell_type": "code",
   "execution_count": null,
   "metadata": {},
   "outputs": [],
   "source": []
  },
  {
   "cell_type": "code",
   "execution_count": null,
   "metadata": {},
   "outputs": [],
   "source": []
  },
  {
   "cell_type": "code",
   "execution_count": null,
   "metadata": {},
   "outputs": [],
   "source": []
  }
 ],
 "metadata": {
  "kernelspec": {
   "display_name": "Python 3",
   "language": "python",
   "name": "python3"
  },
  "language_info": {
   "codemirror_mode": {
    "name": "ipython",
    "version": 3
   },
   "file_extension": ".py",
   "mimetype": "text/x-python",
   "name": "python",
   "nbconvert_exporter": "python",
   "pygments_lexer": "ipython3",
   "version": "3.8.5"
  }
 },
 "nbformat": 4,
 "nbformat_minor": 4
}
